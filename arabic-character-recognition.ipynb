{
 "cells": [
  {
   "cell_type": "markdown",
   "id": "20fed0b3",
   "metadata": {
    "papermill": {
     "duration": 0.023615,
     "end_time": "2021-11-07T16:42:10.348692",
     "exception": false,
     "start_time": "2021-11-07T16:42:10.325077",
     "status": "completed"
    },
    "tags": []
   },
   "source": [
    "# ✨ Hi There"
   ]
  },
  {
   "cell_type": "markdown",
   "id": "ddb3f0d2",
   "metadata": {
    "papermill": {
     "duration": 0.02025,
     "end_time": "2021-11-07T16:42:10.391352",
     "exception": false,
     "start_time": "2021-11-07T16:42:10.371102",
     "status": "completed"
    },
    "tags": []
   },
   "source": [
    "# We're Serial Kernels 🐲"
   ]
  },
  {
   "cell_type": "markdown",
   "id": "1f22b84a",
   "metadata": {
    "papermill": {
     "duration": 0.02009,
     "end_time": "2021-11-07T16:42:10.432156",
     "exception": false,
     "start_time": "2021-11-07T16:42:10.412066",
     "status": "completed"
    },
    "tags": []
   },
   "source": [
    "# ✨ Importing Libraries"
   ]
  },
  {
   "cell_type": "code",
   "execution_count": 1,
   "id": "769d1fb5",
   "metadata": {
    "execution": {
     "iopub.execute_input": "2021-11-07T16:42:10.514665Z",
     "iopub.status.busy": "2021-11-07T16:42:10.514097Z",
     "iopub.status.idle": "2021-11-07T16:42:15.905689Z",
     "shell.execute_reply": "2021-11-07T16:42:15.905030Z",
     "shell.execute_reply.started": "2021-11-07T14:42:07.187337Z"
    },
    "papermill": {
     "duration": 5.438813,
     "end_time": "2021-11-07T16:42:15.905844",
     "exception": false,
     "start_time": "2021-11-07T16:42:10.467031",
     "status": "completed"
    },
    "tags": []
   },
   "outputs": [],
   "source": [
    "import pandas as pd\n",
    "import numpy as np\n",
    "import keras\n",
    "import tensorflow as tf\n",
    "from tqdm import tqdm \n",
    "import cv2\n",
    "import os, datetime\n",
    "import matplotlib.pyplot as plt\n",
    "from sklearn.model_selection import train_test_split\n",
    "import tensorflow.keras as K\n",
    "from tensorflow.keras.utils import to_categorical\n",
    "from tensorflow.keras.callbacks import ModelCheckpoint "
   ]
  },
  {
   "cell_type": "markdown",
   "id": "b40f2193",
   "metadata": {
    "papermill": {
     "duration": 0.020402,
     "end_time": "2021-11-07T16:42:15.948056",
     "exception": false,
     "start_time": "2021-11-07T16:42:15.927654",
     "status": "completed"
    },
    "tags": []
   },
   "source": [
    "# ✨ Loading Data"
   ]
  },
  {
   "cell_type": "code",
   "execution_count": 2,
   "id": "cd5af517",
   "metadata": {
    "execution": {
     "iopub.execute_input": "2021-11-07T16:42:15.994911Z",
     "iopub.status.busy": "2021-11-07T16:42:15.992254Z",
     "iopub.status.idle": "2021-11-07T16:42:16.176907Z",
     "shell.execute_reply": "2021-11-07T16:42:16.177322Z",
     "shell.execute_reply.started": "2021-11-07T14:42:14.859768Z"
    },
    "papermill": {
     "duration": 0.209007,
     "end_time": "2021-11-07T16:42:16.177482",
     "exception": false,
     "start_time": "2021-11-07T16:42:15.968475",
     "status": "completed"
    },
    "tags": []
   },
   "outputs": [
    {
     "data": {
      "text/html": [
       "<div>\n",
       "<style scoped>\n",
       "    .dataframe tbody tr th:only-of-type {\n",
       "        vertical-align: middle;\n",
       "    }\n",
       "\n",
       "    .dataframe tbody tr th {\n",
       "        vertical-align: top;\n",
       "    }\n",
       "\n",
       "    .dataframe thead th {\n",
       "        text-align: right;\n",
       "    }\n",
       "</style>\n",
       "<table border=\"1\" class=\"dataframe\">\n",
       "  <thead>\n",
       "    <tr style=\"text-align: right;\">\n",
       "      <th></th>\n",
       "      <th>id</th>\n",
       "      <th>label</th>\n",
       "    </tr>\n",
       "  </thead>\n",
       "  <tbody>\n",
       "    <tr>\n",
       "      <th>0</th>\n",
       "      <td>00000</td>\n",
       "      <td>24</td>\n",
       "    </tr>\n",
       "    <tr>\n",
       "      <th>1</th>\n",
       "      <td>00001</td>\n",
       "      <td>2</td>\n",
       "    </tr>\n",
       "    <tr>\n",
       "      <th>2</th>\n",
       "      <td>00002</td>\n",
       "      <td>17</td>\n",
       "    </tr>\n",
       "    <tr>\n",
       "      <th>3</th>\n",
       "      <td>00003</td>\n",
       "      <td>14</td>\n",
       "    </tr>\n",
       "    <tr>\n",
       "      <th>4</th>\n",
       "      <td>00004</td>\n",
       "      <td>19</td>\n",
       "    </tr>\n",
       "  </tbody>\n",
       "</table>\n",
       "</div>"
      ],
      "text/plain": [
       "      id label\n",
       "0  00000    24\n",
       "1  00001     2\n",
       "2  00002    17\n",
       "3  00003    14\n",
       "4  00004    19"
      ]
     },
     "metadata": {},
     "output_type": "display_data"
    },
    {
     "name": "stdout",
     "output_type": "stream",
     "text": [
      "(13440, 2)\n",
      "(3360, 1)\n",
      "id       object\n",
      "label    object\n",
      "dtype: object\n"
     ]
    }
   ],
   "source": [
    "\n",
    "train=pd.read_csv('/kaggle/input/arabic-hwr-ai-pro-intake1/train.csv',dtype={'id': str,'label':str})\n",
    "test=pd.read_csv('/kaggle/input/arabic-hwr-ai-pro-intake1/test.csv',dtype={'id': str})\n",
    "display(train.head())\n",
    "print(train.shape)\n",
    "print(test.shape)\n",
    "print(train.dtypes)\n",
    "# train=train.astype(str)\n",
    "# test=test.astype(str)\n"
   ]
  },
  {
   "cell_type": "markdown",
   "id": "16a061bf",
   "metadata": {
    "papermill": {
     "duration": 0.020945,
     "end_time": "2021-11-07T16:42:16.220419",
     "exception": false,
     "start_time": "2021-11-07T16:42:16.199474",
     "status": "completed"
    },
    "tags": []
   },
   "source": [
    "# ✨ Exploring"
   ]
  },
  {
   "cell_type": "code",
   "execution_count": 3,
   "id": "03f27118",
   "metadata": {
    "execution": {
     "iopub.execute_input": "2021-11-07T16:42:16.271978Z",
     "iopub.status.busy": "2021-11-07T16:42:16.271326Z",
     "iopub.status.idle": "2021-11-07T16:42:16.274047Z",
     "shell.execute_reply": "2021-11-07T16:42:16.274461Z",
     "shell.execute_reply.started": "2021-11-07T14:42:15.098872Z"
    },
    "papermill": {
     "duration": 0.033221,
     "end_time": "2021-11-07T16:42:16.274595",
     "exception": false,
     "start_time": "2021-11-07T16:42:16.241374",
     "status": "completed"
    },
    "tags": []
   },
   "outputs": [
    {
     "data": {
      "text/plain": [
       "id       0\n",
       "label    0\n",
       "dtype: int64"
      ]
     },
     "execution_count": 3,
     "metadata": {},
     "output_type": "execute_result"
    }
   ],
   "source": [
    "train.isnull().sum()"
   ]
  },
  {
   "cell_type": "code",
   "execution_count": 4,
   "id": "d44c7637",
   "metadata": {
    "execution": {
     "iopub.execute_input": "2021-11-07T16:42:16.328967Z",
     "iopub.status.busy": "2021-11-07T16:42:16.328222Z",
     "iopub.status.idle": "2021-11-07T16:42:16.330869Z",
     "shell.execute_reply": "2021-11-07T16:42:16.331365Z",
     "shell.execute_reply.started": "2021-11-07T14:42:15.116494Z"
    },
    "papermill": {
     "duration": 0.035721,
     "end_time": "2021-11-07T16:42:16.331521",
     "exception": false,
     "start_time": "2021-11-07T16:42:16.295800",
     "status": "completed"
    },
    "tags": []
   },
   "outputs": [
    {
     "data": {
      "text/plain": [
       "24    480\n",
       "2     480\n",
       "22    480\n",
       "20    480\n",
       "3     480\n",
       "6     480\n",
       "7     480\n",
       "5     480\n",
       "9     480\n",
       "1     480\n",
       "25    480\n",
       "12    480\n",
       "4     480\n",
       "26    480\n",
       "16    480\n",
       "8     480\n",
       "15    480\n",
       "13    480\n",
       "11    480\n",
       "21    480\n",
       "18    480\n",
       "28    480\n",
       "23    480\n",
       "10    480\n",
       "19    480\n",
       "14    480\n",
       "17    480\n",
       "27    480\n",
       "Name: label, dtype: int64"
      ]
     },
     "execution_count": 4,
     "metadata": {},
     "output_type": "execute_result"
    }
   ],
   "source": [
    "train['label'].value_counts()"
   ]
  },
  {
   "cell_type": "code",
   "execution_count": 5,
   "id": "0acd3769",
   "metadata": {
    "execution": {
     "iopub.execute_input": "2021-11-07T16:42:16.379121Z",
     "iopub.status.busy": "2021-11-07T16:42:16.378439Z",
     "iopub.status.idle": "2021-11-07T16:42:16.380619Z",
     "shell.execute_reply": "2021-11-07T16:42:16.381038Z",
     "shell.execute_reply.started": "2021-11-07T14:42:15.138439Z"
    },
    "papermill": {
     "duration": 0.027517,
     "end_time": "2021-11-07T16:42:16.381163",
     "exception": false,
     "start_time": "2021-11-07T16:42:16.353646",
     "status": "completed"
    },
    "tags": []
   },
   "outputs": [],
   "source": [
    "X=[]\n",
    "Y=[]"
   ]
  },
  {
   "cell_type": "code",
   "execution_count": 6,
   "id": "9c6788df",
   "metadata": {
    "execution": {
     "iopub.execute_input": "2021-11-07T16:42:16.428118Z",
     "iopub.status.busy": "2021-11-07T16:42:16.427323Z",
     "iopub.status.idle": "2021-11-07T16:42:16.429605Z",
     "shell.execute_reply": "2021-11-07T16:42:16.429985Z",
     "shell.execute_reply.started": "2021-11-07T14:42:15.146113Z"
    },
    "papermill": {
     "duration": 0.027265,
     "end_time": "2021-11-07T16:42:16.430120",
     "exception": false,
     "start_time": "2021-11-07T16:42:16.402855",
     "status": "completed"
    },
    "tags": []
   },
   "outputs": [],
   "source": [
    "# def load_data(path):\n",
    "#     for image in tqdm(os.listdir(path)):\n",
    "#         image_path = os.path.join(path,image)\n",
    "#         img = cv2.imread(image_path)\n",
    "#         X_train.append(np.array(img))\n",
    "#     return X_train"
   ]
  },
  {
   "cell_type": "code",
   "execution_count": 7,
   "id": "b73f7900",
   "metadata": {
    "execution": {
     "iopub.execute_input": "2021-11-07T16:42:16.476413Z",
     "iopub.status.busy": "2021-11-07T16:42:16.475652Z",
     "iopub.status.idle": "2021-11-07T16:42:16.480471Z",
     "shell.execute_reply": "2021-11-07T16:42:16.480043Z",
     "shell.execute_reply.started": "2021-11-07T14:42:15.156580Z"
    },
    "papermill": {
     "duration": 0.028839,
     "end_time": "2021-11-07T16:42:16.480602",
     "exception": false,
     "start_time": "2021-11-07T16:42:16.451763",
     "status": "completed"
    },
    "tags": []
   },
   "outputs": [],
   "source": [
    "def load_data(path):\n",
    "    for image in train['id']:\n",
    "        image_path = path+image+'.png'\n",
    "        img = cv2.imread(image_path)\n",
    "        X.append(np.array(img))\n",
    "    return X"
   ]
  },
  {
   "cell_type": "code",
   "execution_count": 8,
   "id": "7eec331d",
   "metadata": {
    "execution": {
     "iopub.execute_input": "2021-11-07T16:42:16.527223Z",
     "iopub.status.busy": "2021-11-07T16:42:16.526624Z",
     "iopub.status.idle": "2021-11-07T16:43:08.119281Z",
     "shell.execute_reply": "2021-11-07T16:43:08.118498Z",
     "shell.execute_reply.started": "2021-11-07T14:42:15.169694Z"
    },
    "papermill": {
     "duration": 51.617359,
     "end_time": "2021-11-07T16:43:08.119455",
     "exception": false,
     "start_time": "2021-11-07T16:42:16.502096",
     "status": "completed"
    },
    "tags": []
   },
   "outputs": [],
   "source": [
    "X=load_data('/kaggle/input/arabic-hwr-ai-pro-intake1/train/')"
   ]
  },
  {
   "cell_type": "code",
   "execution_count": 9,
   "id": "08c35c0b",
   "metadata": {
    "execution": {
     "iopub.execute_input": "2021-11-07T16:43:08.170601Z",
     "iopub.status.busy": "2021-11-07T16:43:08.166204Z",
     "iopub.status.idle": "2021-11-07T16:43:08.172477Z",
     "shell.execute_reply": "2021-11-07T16:43:08.172867Z",
     "shell.execute_reply.started": "2021-11-07T14:43:14.055207Z"
    },
    "papermill": {
     "duration": 0.030677,
     "end_time": "2021-11-07T16:43:08.172996",
     "exception": false,
     "start_time": "2021-11-07T16:43:08.142319",
     "status": "completed"
    },
    "tags": []
   },
   "outputs": [],
   "source": [
    "Y=train['label'].astype(int).tolist()"
   ]
  },
  {
   "cell_type": "code",
   "execution_count": 10,
   "id": "f05d8d5f",
   "metadata": {
    "execution": {
     "iopub.execute_input": "2021-11-07T16:43:08.234072Z",
     "iopub.status.busy": "2021-11-07T16:43:08.224749Z",
     "iopub.status.idle": "2021-11-07T16:43:08.466431Z",
     "shell.execute_reply": "2021-11-07T16:43:08.465979Z",
     "shell.execute_reply.started": "2021-11-07T14:43:14.069409Z"
    },
    "papermill": {
     "duration": 0.272099,
     "end_time": "2021-11-07T16:43:08.466556",
     "exception": false,
     "start_time": "2021-11-07T16:43:08.194457",
     "status": "completed"
    },
    "tags": []
   },
   "outputs": [
    {
     "data": {
      "text/plain": [
       "1"
      ]
     },
     "execution_count": 10,
     "metadata": {},
     "output_type": "execute_result"
    },
    {
     "data": {
      "image/png": "[encoded data removed]",
      "text/plain": [
       "<Figure size 720x720 with 1 Axes>"
      ]
     },
     "metadata": {
      "needs_background": "light"
     },
     "output_type": "display_data"
    }
   ],
   "source": [
    "plt.figure(figsize=(10,10))\n",
    "plt.imshow(X[31])\n",
    "Y[31]"
   ]
  },
  {
   "cell_type": "markdown",
   "id": "fb47fd1e",
   "metadata": {
    "papermill": {
     "duration": 0.022734,
     "end_time": "2021-11-07T16:43:08.512434",
     "exception": false,
     "start_time": "2021-11-07T16:43:08.489700",
     "status": "completed"
    },
    "tags": []
   },
   "source": [
    "# ✨ Character Recognition Model"
   ]
  },
  {
   "cell_type": "code",
   "execution_count": 11,
   "id": "0ff80e71",
   "metadata": {
    "execution": {
     "iopub.execute_input": "2021-11-07T16:43:08.572632Z",
     "iopub.status.busy": "2021-11-07T16:43:08.572069Z",
     "iopub.status.idle": "2021-11-07T16:43:12.655865Z",
     "shell.execute_reply": "2021-11-07T16:43:12.656388Z",
     "shell.execute_reply.started": "2021-11-07T14:43:14.413965Z"
    },
    "papermill": {
     "duration": 4.121555,
     "end_time": "2021-11-07T16:43:12.656568",
     "exception": false,
     "start_time": "2021-11-07T16:43:08.535013",
     "status": "completed"
    },
    "tags": []
   },
   "outputs": [
    {
     "name": "stderr",
     "output_type": "stream",
     "text": [
      "2021-11-07 16:43:08.696479: I tensorflow/stream_executor/cuda/cuda_gpu_executor.cc:937] successful NUMA node read from SysFS had negative value (-1), but there must be at least one NUMA node, so returning NUMA node zero\n",
      "2021-11-07 16:43:08.790452: I tensorflow/stream_executor/cuda/cuda_gpu_executor.cc:937] successful NUMA node read from SysFS had negative value (-1), but there must be at least one NUMA node, so returning NUMA node zero\n",
      "2021-11-07 16:43:08.791169: I tensorflow/stream_executor/cuda/cuda_gpu_executor.cc:937] successful NUMA node read from SysFS had negative value (-1), but there must be at least one NUMA node, so returning NUMA node zero\n",
      "2021-11-07 16:43:08.792230: I tensorflow/core/platform/cpu_feature_guard.cc:142] This TensorFlow binary is optimized with oneAPI Deep Neural Network Library (oneDNN) to use the following CPU instructions in performance-critical operations:  AVX2 AVX512F FMA\n",
      "To enable them in other operations, rebuild TensorFlow with the appropriate compiler flags.\n",
      "2021-11-07 16:43:08.793249: I tensorflow/stream_executor/cuda/cuda_gpu_executor.cc:937] successful NUMA node read from SysFS had negative value (-1), but there must be at least one NUMA node, so returning NUMA node zero\n",
      "2021-11-07 16:43:08.793947: I tensorflow/stream_executor/cuda/cuda_gpu_executor.cc:937] successful NUMA node read from SysFS had negative value (-1), but there must be at least one NUMA node, so returning NUMA node zero\n",
      "2021-11-07 16:43:08.794595: I tensorflow/stream_executor/cuda/cuda_gpu_executor.cc:937] successful NUMA node read from SysFS had negative value (-1), but there must be at least one NUMA node, so returning NUMA node zero\n",
      "2021-11-07 16:43:10.609617: I tensorflow/stream_executor/cuda/cuda_gpu_executor.cc:937] successful NUMA node read from SysFS had negative value (-1), but there must be at least one NUMA node, so returning NUMA node zero\n",
      "2021-11-07 16:43:10.610433: I tensorflow/stream_executor/cuda/cuda_gpu_executor.cc:937] successful NUMA node read from SysFS had negative value (-1), but there must be at least one NUMA node, so returning NUMA node zero\n",
      "2021-11-07 16:43:10.611104: I tensorflow/stream_executor/cuda/cuda_gpu_executor.cc:937] successful NUMA node read from SysFS had negative value (-1), but there must be at least one NUMA node, so returning NUMA node zero\n",
      "2021-11-07 16:43:10.611711: I tensorflow/core/common_runtime/gpu/gpu_device.cc:1510] Created device /job:localhost/replica:0/task:0/device:GPU:0 with 15403 MB memory:  -> device: 0, name: Tesla P100-PCIE-16GB, pci bus id: 0000:00:04.0, compute capability: 6.0\n"
     ]
    },
    {
     "name": "stdout",
     "output_type": "stream",
     "text": [
      "Downloading data from https://storage.googleapis.com/tensorflow/keras-applications/resnet/resnet50_weights_tf_dim_ordering_tf_kernels_notop.h5\n",
      "94773248/94765736 [==============================] - 0s 0us/step\n",
      "94781440/94765736 [==============================] - 0s 0us/step\n"
     ]
    },
    {
     "name": "stderr",
     "output_type": "stream",
     "text": [
      "/opt/conda/lib/python3.7/site-packages/keras/optimizer_v2/optimizer_v2.py:356: UserWarning: The `lr` argument is deprecated, use `learning_rate` instead.\n",
      "  \"The `lr` argument is deprecated, use `learning_rate` instead.\")\n"
     ]
    }
   ],
   "source": [
    "X_train, X_valid, y_train,y_valid = train_test_split(X, Y,test_size=0.33, random_state=0,shuffle=True,stratify=Y)\n",
    "X_train = np.array(X_train)\n",
    "y_train = np.array(y_train)\n",
    "X_valid = np.array(X_valid)\n",
    "\n",
    "y_valid = np.array(y_valid)\n",
    "\n",
    "y_train=to_categorical(y_train-1, num_classes=28)\n",
    "y_valid=to_categorical(y_valid-1, num_classes=28)\n",
    "\n",
    "\n",
    "input_t = K.Input(shape=(224, 224, 3))\n",
    "res_model = K.applications.ResNet50(weights='imagenet',include_top=False,input_tensor=input_t)\n",
    "for layer in res_model.layers[:143]:\n",
    "        layer.trainable = False\n",
    "\n",
    "to_res = (224, 224)\n",
    "\n",
    "model = K.models.Sequential()\n",
    "model.add(K.layers.Lambda(lambda image: tf.image.resize(image, to_res)))\n",
    "model.add(res_model)\n",
    "model.add(K.layers.Flatten())\n",
    "model.add(K.layers.BatchNormalization())\n",
    "model.add(K.layers.Dense(256, activation='relu'))\n",
    "model.add(K.layers.Dropout(0.5))\n",
    "model.add(K.layers.BatchNormalization())\n",
    "model.add(K.layers.Dense(128, activation='relu'))\n",
    "model.add(K.layers.Dropout(0.5))\n",
    "model.add(K.layers.BatchNormalization())\n",
    "model.add(K.layers.Dense(64, activation='relu'))\n",
    "model.add(K.layers.Dropout(0.5))\n",
    "model.add(K.layers.BatchNormalization())\n",
    "model.add(K.layers.Dense(28, activation='softmax'))\n",
    "\n",
    "\n",
    "logdir = os.path.join(\"logs\", datetime.datetime.now().strftime(\"%Y%m%d-%H%M%S\"))\n",
    "model.compile(loss='categorical_crossentropy',\n",
    "              optimizer=K.optimizers.RMSprop(lr=0.001, rho=0.9, epsilon=1e-08, decay=0.0),\n",
    "              metrics=['accuracy'])"
   ]
  },
  {
   "cell_type": "markdown",
   "id": "fb864d77",
   "metadata": {
    "papermill": {
     "duration": 0.026163,
     "end_time": "2021-11-07T16:43:12.709089",
     "exception": false,
     "start_time": "2021-11-07T16:43:12.682926",
     "status": "completed"
    },
    "tags": []
   },
   "source": [
    "# ✨ Data Augmentation"
   ]
  },
  {
   "cell_type": "code",
   "execution_count": 12,
   "id": "57b13b9c",
   "metadata": {
    "execution": {
     "iopub.execute_input": "2021-11-07T16:43:12.769069Z",
     "iopub.status.busy": "2021-11-07T16:43:12.767919Z",
     "iopub.status.idle": "2021-11-07T16:43:12.837520Z",
     "shell.execute_reply": "2021-11-07T16:43:12.837955Z",
     "shell.execute_reply.started": "2021-11-07T14:43:20.961636Z"
    },
    "papermill": {
     "duration": 0.102003,
     "end_time": "2021-11-07T16:43:12.838120",
     "exception": false,
     "start_time": "2021-11-07T16:43:12.736117",
     "status": "completed"
    },
    "tags": []
   },
   "outputs": [],
   "source": [
    "from keras.preprocessing.image import ImageDataGenerator\n",
    "\n",
    "# create and configure augmented image generator\n",
    "datagen_train = ImageDataGenerator(\n",
    "   featurewise_center=False,  # set input mean to 0 over the dataset\n",
    "        samplewise_center=False,  # set each sample mean to 0\n",
    "        featurewise_std_normalization=False,  # divide inputs by std of the dataset\n",
    "        samplewise_std_normalization=False,  # divide each input by its std\n",
    "        zca_whitening=False,  # apply ZCA whitening\n",
    "        #rotation_range=10,  # randomly rotate images in the range (degrees, 0 to 180)\n",
    "        zoom_range = 0.1, # Randomly zoom image \n",
    "        width_shift_range=0.1,  # randomly shift images horizontally (fraction of total width)\n",
    "        height_shift_range=0.1,  # randomly shift images vertically (fraction of total height)\n",
    "        horizontal_flip=False,  # randomly flip images\n",
    "        vertical_flip=False)  # randomly flip images\n",
    "# fit augmented image generator on data\n",
    "datagen_train.fit(X_train)"
   ]
  },
  {
   "cell_type": "markdown",
   "id": "1f263ffb",
   "metadata": {
    "papermill": {
     "duration": 0.026478,
     "end_time": "2021-11-07T16:43:12.891374",
     "exception": false,
     "start_time": "2021-11-07T16:43:12.864896",
     "status": "completed"
    },
    "tags": []
   },
   "source": [
    "# ✨ Training"
   ]
  },
  {
   "cell_type": "code",
   "execution_count": 13,
   "id": "80558651",
   "metadata": {
    "execution": {
     "iopub.execute_input": "2021-11-07T16:43:12.952717Z",
     "iopub.status.busy": "2021-11-07T16:43:12.951459Z",
     "iopub.status.idle": "2021-11-07T17:25:32.061607Z",
     "shell.execute_reply": "2021-11-07T17:25:32.061087Z",
     "shell.execute_reply.started": "2021-11-07T14:43:21.042476Z"
    },
    "papermill": {
     "duration": 2539.143961,
     "end_time": "2021-11-07T17:25:32.061762",
     "exception": false,
     "start_time": "2021-11-07T16:43:12.917801",
     "status": "completed"
    },
    "tags": []
   },
   "outputs": [
    {
     "name": "stderr",
     "output_type": "stream",
     "text": [
      "/opt/conda/lib/python3.7/site-packages/keras/engine/training.py:1972: UserWarning: `Model.fit_generator` is deprecated and will be removed in a future version. Please use `Model.fit`, which supports generators.\n",
      "  warnings.warn('`Model.fit_generator` is deprecated and '\n",
      "2021-11-07 16:43:14.181878: I tensorflow/stream_executor/cuda/cuda_dnn.cc:369] Loaded cuDNN version 8005\n",
      "2021-11-07 16:43:19.535916: I tensorflow/compiler/mlir/mlir_graph_optimization_pass.cc:185] None of the MLIR Optimization Passes are enabled (registered 2)\n"
     ]
    },
    {
     "name": "stdout",
     "output_type": "stream",
     "text": [
      "Epoch 1/80\n",
      "140/140 - 32s - loss: 3.0846 - accuracy: 0.1487 - val_loss: 29.2159 - val_accuracy: 0.0636\n",
      "Epoch 2/80\n",
      "140/140 - 25s - loss: 1.9203 - accuracy: 0.4281 - val_loss: 2.9893 - val_accuracy: 0.3550\n",
      "Epoch 3/80\n",
      "140/140 - 25s - loss: 1.2871 - accuracy: 0.6294 - val_loss: 1.3739 - val_accuracy: 0.6305\n",
      "Epoch 4/80\n",
      "140/140 - 25s - loss: 0.9056 - accuracy: 0.7490 - val_loss: 0.4174 - val_accuracy: 0.9044\n",
      "Epoch 5/80\n",
      "140/140 - 25s - loss: 0.6982 - accuracy: 0.8179 - val_loss: 0.3128 - val_accuracy: 0.9168\n",
      "Epoch 6/80\n",
      "140/140 - 25s - loss: 0.5568 - accuracy: 0.8570 - val_loss: 0.1684 - val_accuracy: 0.9601\n",
      "Epoch 7/80\n",
      "140/140 - 25s - loss: 0.4974 - accuracy: 0.8751 - val_loss: 0.2691 - val_accuracy: 0.9243\n",
      "Epoch 8/80\n",
      "140/140 - 25s - loss: 0.4313 - accuracy: 0.8921 - val_loss: 0.1429 - val_accuracy: 0.9637\n",
      "Epoch 9/80\n",
      "140/140 - 25s - loss: 0.3766 - accuracy: 0.9077 - val_loss: 0.2213 - val_accuracy: 0.9414\n",
      "Epoch 10/80\n",
      "140/140 - 25s - loss: 0.3588 - accuracy: 0.9113 - val_loss: 0.2162 - val_accuracy: 0.9454\n",
      "Epoch 11/80\n",
      "140/140 - 25s - loss: 0.3158 - accuracy: 0.9227 - val_loss: 0.1472 - val_accuracy: 0.9644\n",
      "Epoch 12/80\n",
      "140/140 - 24s - loss: 0.3172 - accuracy: 0.9243 - val_loss: 0.1494 - val_accuracy: 0.9637\n",
      "Epoch 13/80\n",
      "140/140 - 25s - loss: 0.3048 - accuracy: 0.9274 - val_loss: 0.1838 - val_accuracy: 0.9572\n",
      "Epoch 14/80\n",
      "140/140 - 25s - loss: 0.2720 - accuracy: 0.9368 - val_loss: 0.3241 - val_accuracy: 0.9330\n",
      "Epoch 15/80\n",
      "140/140 - 25s - loss: 0.2519 - accuracy: 0.9403 - val_loss: 0.1997 - val_accuracy: 0.9583\n",
      "Epoch 16/80\n",
      "140/140 - 25s - loss: 0.2605 - accuracy: 0.9399 - val_loss: 0.1348 - val_accuracy: 0.9691\n",
      "Epoch 17/80\n",
      "140/140 - 25s - loss: 0.2303 - accuracy: 0.9460 - val_loss: 0.1129 - val_accuracy: 0.9729\n",
      "Epoch 18/80\n",
      "140/140 - 25s - loss: 0.2397 - accuracy: 0.9442 - val_loss: 0.1432 - val_accuracy: 0.9684\n",
      "Epoch 19/80\n",
      "140/140 - 25s - loss: 0.2291 - accuracy: 0.9481 - val_loss: 0.1186 - val_accuracy: 0.9739\n",
      "Epoch 20/80\n",
      "140/140 - 25s - loss: 0.2231 - accuracy: 0.9512 - val_loss: 0.1704 - val_accuracy: 0.9621\n",
      "Epoch 21/80\n",
      "140/140 - 25s - loss: 0.2023 - accuracy: 0.9540 - val_loss: 0.1462 - val_accuracy: 0.9702\n",
      "Epoch 22/80\n",
      "140/140 - 25s - loss: 0.2129 - accuracy: 0.9529 - val_loss: 0.1605 - val_accuracy: 0.9664\n",
      "Epoch 23/80\n",
      "140/140 - 25s - loss: 0.2099 - accuracy: 0.9536 - val_loss: 0.1407 - val_accuracy: 0.9714\n",
      "Epoch 24/80\n",
      "140/140 - 25s - loss: 0.1747 - accuracy: 0.9600 - val_loss: 0.1343 - val_accuracy: 0.9741\n",
      "Epoch 25/80\n",
      "140/140 - 25s - loss: 0.1828 - accuracy: 0.9575 - val_loss: 0.1279 - val_accuracy: 0.9716\n",
      "Epoch 26/80\n",
      "140/140 - 25s - loss: 0.1769 - accuracy: 0.9583 - val_loss: 0.1454 - val_accuracy: 0.9702\n",
      "Epoch 27/80\n",
      "140/140 - 25s - loss: 0.1816 - accuracy: 0.9610 - val_loss: 0.1576 - val_accuracy: 0.9639\n",
      "Epoch 28/80\n",
      "140/140 - 25s - loss: 0.1741 - accuracy: 0.9613 - val_loss: 0.1526 - val_accuracy: 0.9700\n",
      "Epoch 29/80\n",
      "140/140 - 24s - loss: 0.1695 - accuracy: 0.9630 - val_loss: 0.1823 - val_accuracy: 0.9660\n",
      "Epoch 30/80\n",
      "140/140 - 25s - loss: 0.1740 - accuracy: 0.9619 - val_loss: 0.1229 - val_accuracy: 0.9766\n",
      "Epoch 31/80\n",
      "140/140 - 24s - loss: 0.1547 - accuracy: 0.9667 - val_loss: 0.1509 - val_accuracy: 0.9723\n",
      "Epoch 32/80\n",
      "140/140 - 25s - loss: 0.1583 - accuracy: 0.9631 - val_loss: 0.1238 - val_accuracy: 0.9777\n",
      "Epoch 33/80\n",
      "140/140 - 25s - loss: 0.1649 - accuracy: 0.9633 - val_loss: 0.1312 - val_accuracy: 0.9729\n",
      "Epoch 34/80\n",
      "140/140 - 25s - loss: 0.1522 - accuracy: 0.9662 - val_loss: 0.1398 - val_accuracy: 0.9754\n",
      "Epoch 35/80\n",
      "140/140 - 25s - loss: 0.1367 - accuracy: 0.9694 - val_loss: 0.2058 - val_accuracy: 0.9621\n",
      "Epoch 36/80\n",
      "140/140 - 25s - loss: 0.1473 - accuracy: 0.9680 - val_loss: 0.1181 - val_accuracy: 0.9781\n",
      "Epoch 37/80\n",
      "140/140 - 25s - loss: 0.1615 - accuracy: 0.9662 - val_loss: 0.1256 - val_accuracy: 0.9777\n",
      "Epoch 38/80\n",
      "140/140 - 25s - loss: 0.1430 - accuracy: 0.9719 - val_loss: 0.1176 - val_accuracy: 0.9784\n",
      "Epoch 39/80\n",
      "140/140 - 25s - loss: 0.1438 - accuracy: 0.9686 - val_loss: 0.1952 - val_accuracy: 0.9606\n",
      "Epoch 40/80\n",
      "140/140 - 25s - loss: 0.1316 - accuracy: 0.9711 - val_loss: 0.1223 - val_accuracy: 0.9750\n",
      "Epoch 41/80\n",
      "140/140 - 25s - loss: 0.1397 - accuracy: 0.9696 - val_loss: 0.1640 - val_accuracy: 0.9673\n",
      "Epoch 42/80\n",
      "140/140 - 25s - loss: 0.1363 - accuracy: 0.9716 - val_loss: 0.1159 - val_accuracy: 0.9781\n",
      "Epoch 43/80\n",
      "140/140 - 25s - loss: 0.1239 - accuracy: 0.9729 - val_loss: 0.1609 - val_accuracy: 0.9702\n",
      "Epoch 44/80\n",
      "140/140 - 25s - loss: 0.1292 - accuracy: 0.9715 - val_loss: 0.1238 - val_accuracy: 0.9786\n",
      "Epoch 45/80\n",
      "140/140 - 25s - loss: 0.1293 - accuracy: 0.9744 - val_loss: 0.1391 - val_accuracy: 0.9734\n",
      "Epoch 46/80\n",
      "140/140 - 25s - loss: 0.1282 - accuracy: 0.9713 - val_loss: 0.1254 - val_accuracy: 0.9775\n",
      "Epoch 47/80\n",
      "140/140 - 25s - loss: 0.1167 - accuracy: 0.9745 - val_loss: 0.1191 - val_accuracy: 0.9784\n",
      "Epoch 48/80\n",
      "140/140 - 25s - loss: 0.1307 - accuracy: 0.9718 - val_loss: 0.1382 - val_accuracy: 0.9734\n",
      "Epoch 49/80\n",
      "140/140 - 25s - loss: 0.1315 - accuracy: 0.9699 - val_loss: 0.1172 - val_accuracy: 0.9772\n",
      "Epoch 50/80\n",
      "140/140 - 25s - loss: 0.1196 - accuracy: 0.9740 - val_loss: 0.1285 - val_accuracy: 0.9790\n",
      "Epoch 51/80\n",
      "140/140 - 25s - loss: 0.1210 - accuracy: 0.9716 - val_loss: 0.1366 - val_accuracy: 0.9759\n",
      "Epoch 52/80\n",
      "140/140 - 25s - loss: 0.1175 - accuracy: 0.9715 - val_loss: 0.1479 - val_accuracy: 0.9711\n",
      "Epoch 53/80\n",
      "140/140 - 25s - loss: 0.1207 - accuracy: 0.9756 - val_loss: 0.1529 - val_accuracy: 0.9743\n",
      "Epoch 54/80\n",
      "140/140 - 25s - loss: 0.1033 - accuracy: 0.9798 - val_loss: 0.1550 - val_accuracy: 0.9709\n",
      "Epoch 55/80\n",
      "140/140 - 25s - loss: 0.1337 - accuracy: 0.9724 - val_loss: 0.1578 - val_accuracy: 0.9770\n",
      "Epoch 56/80\n",
      "140/140 - 25s - loss: 0.1227 - accuracy: 0.9738 - val_loss: 0.1227 - val_accuracy: 0.9768\n",
      "Epoch 57/80\n",
      "140/140 - 25s - loss: 0.1153 - accuracy: 0.9747 - val_loss: 0.1465 - val_accuracy: 0.9741\n",
      "Epoch 58/80\n",
      "140/140 - 25s - loss: 0.1121 - accuracy: 0.9753 - val_loss: 0.1412 - val_accuracy: 0.9772\n",
      "Epoch 59/80\n",
      "140/140 - 25s - loss: 0.1060 - accuracy: 0.9773 - val_loss: 0.1434 - val_accuracy: 0.9736\n",
      "Epoch 60/80\n",
      "140/140 - 24s - loss: 0.1007 - accuracy: 0.9771 - val_loss: 0.1835 - val_accuracy: 0.9707\n",
      "Epoch 61/80\n",
      "140/140 - 25s - loss: 0.1185 - accuracy: 0.9756 - val_loss: 0.1302 - val_accuracy: 0.9788\n",
      "Epoch 62/80\n",
      "140/140 - 25s - loss: 0.1166 - accuracy: 0.9740 - val_loss: 0.1596 - val_accuracy: 0.9748\n",
      "Epoch 63/80\n",
      "140/140 - 28s - loss: 0.0910 - accuracy: 0.9814 - val_loss: 0.1212 - val_accuracy: 0.9793\n",
      "Epoch 64/80\n",
      "140/140 - 25s - loss: 0.1032 - accuracy: 0.9744 - val_loss: 0.1466 - val_accuracy: 0.9793\n",
      "Epoch 65/80\n",
      "140/140 - 25s - loss: 0.1027 - accuracy: 0.9779 - val_loss: 0.1440 - val_accuracy: 0.9779\n",
      "Epoch 66/80\n",
      "140/140 - 25s - loss: 0.1050 - accuracy: 0.9796 - val_loss: 0.1486 - val_accuracy: 0.9777\n",
      "Epoch 67/80\n",
      "140/140 - 25s - loss: 0.1060 - accuracy: 0.9784 - val_loss: 0.1279 - val_accuracy: 0.9799\n",
      "Epoch 68/80\n",
      "140/140 - 25s - loss: 0.1039 - accuracy: 0.9766 - val_loss: 0.1424 - val_accuracy: 0.9793\n",
      "Epoch 69/80\n",
      "140/140 - 25s - loss: 0.1031 - accuracy: 0.9782 - val_loss: 0.1571 - val_accuracy: 0.9770\n",
      "Epoch 70/80\n",
      "140/140 - 25s - loss: 0.1063 - accuracy: 0.9758 - val_loss: 0.1502 - val_accuracy: 0.9759\n",
      "Epoch 71/80\n",
      "140/140 - 25s - loss: 0.0972 - accuracy: 0.9801 - val_loss: 0.1863 - val_accuracy: 0.9752\n",
      "Epoch 72/80\n",
      "140/140 - 25s - loss: 0.1050 - accuracy: 0.9767 - val_loss: 0.1286 - val_accuracy: 0.9784\n",
      "Epoch 73/80\n",
      "140/140 - 25s - loss: 0.0860 - accuracy: 0.9804 - val_loss: 0.1290 - val_accuracy: 0.9802\n",
      "Epoch 74/80\n",
      "140/140 - 25s - loss: 0.1038 - accuracy: 0.9791 - val_loss: 0.1507 - val_accuracy: 0.9761\n",
      "Epoch 75/80\n",
      "140/140 - 25s - loss: 0.0978 - accuracy: 0.9785 - val_loss: 0.1331 - val_accuracy: 0.9757\n",
      "Epoch 76/80\n",
      "140/140 - 25s - loss: 0.0926 - accuracy: 0.9779 - val_loss: 0.1432 - val_accuracy: 0.9793\n",
      "Epoch 77/80\n",
      "140/140 - 25s - loss: 0.0812 - accuracy: 0.9815 - val_loss: 0.1265 - val_accuracy: 0.9811\n",
      "Epoch 78/80\n",
      "140/140 - 25s - loss: 0.0902 - accuracy: 0.9808 - val_loss: 0.1526 - val_accuracy: 0.9770\n",
      "Epoch 79/80\n",
      "140/140 - 25s - loss: 0.0934 - accuracy: 0.9811 - val_loss: 0.1680 - val_accuracy: 0.9745\n",
      "Epoch 80/80\n",
      "140/140 - 25s - loss: 0.0880 - accuracy: 0.9801 - val_loss: 0.1302 - val_accuracy: 0.9811\n"
     ]
    },
    {
     "name": "stderr",
     "output_type": "stream",
     "text": [
      "/opt/conda/lib/python3.7/site-packages/keras/utils/generic_utils.py:497: CustomMaskWarning: Custom mask layers require a config and must override get_config. When loading, the custom mask layer must be passed to the custom_objects argument.\n",
      "  category=CustomMaskWarning)\n"
     ]
    }
   ],
   "source": [
    "from keras.callbacks import ModelCheckpoint   \n",
    "from keras.callbacks import ReduceLROnPlateau\n",
    "batch_size = 64\n",
    "epochs = 80\n",
    "learning_rate_reduction = ReduceLROnPlateau(monitor='val_acc', \n",
    "                                            patience=3, \n",
    "                                            verbose=1, \n",
    "                                            factor=0.5, \n",
    "                                            min_lr=0.00001)\n",
    "# train the model\n",
    "checkpointer = ModelCheckpoint(filepath='weights.hdf5', verbose=1, save_best_only=True)\n",
    "history=model.fit_generator(datagen_train.flow(X_train,y_train, batch_size=batch_size),\n",
    "                    steps_per_epoch=X_train.shape[0] // batch_size,\n",
    "                    epochs=epochs, verbose=2, callbacks=[learning_rate_reduction],\n",
    "                    validation_data=(X_valid, y_valid))\n",
    "model.save(\"model.h5\")"
   ]
  },
  {
   "cell_type": "code",
   "execution_count": 14,
   "id": "4516ba2b",
   "metadata": {
    "execution": {
     "iopub.execute_input": "2021-11-07T17:25:32.229956Z",
     "iopub.status.busy": "2021-11-07T17:25:32.220992Z",
     "iopub.status.idle": "2021-11-07T17:25:32.613598Z",
     "shell.execute_reply": "2021-11-07T17:25:32.612834Z",
     "shell.execute_reply.started": "2021-11-07T15:28:04.835434Z"
    },
    "papermill": {
     "duration": 0.48404,
     "end_time": "2021-11-07T17:25:32.613727",
     "exception": false,
     "start_time": "2021-11-07T17:25:32.129687",
     "status": "completed"
    },
    "tags": []
   },
   "outputs": [
    {
     "data": {
      "text/plain": [
       "Text(0.5, 1.0, 'Training and validation loss')"
      ]
     },
     "execution_count": 14,
     "metadata": {},
     "output_type": "execute_result"
    },
    {
     "data": {
      "image/png": "[encoded data removed]",
      "text/plain": [
       "<Figure size 432x288 with 1 Axes>"
      ]
     },
     "metadata": {
      "needs_background": "light"
     },
     "output_type": "display_data"
    },
    {
     "data": {
      "image/png": "[encoded data removed]",
      "text/plain": [
       "<Figure size 432x288 with 1 Axes>"
      ]
     },
     "metadata": {
      "needs_background": "light"
     },
     "output_type": "display_data"
    }
   ],
   "source": [
    "%matplotlib inline\n",
    "\n",
    "import matplotlib.image  as mpimg\n",
    "import matplotlib.pyplot as plt\n",
    "\n",
    "acc=history.history['accuracy']\n",
    "val_acc=history.history['val_accuracy']\n",
    "loss=history.history['loss']\n",
    "val_loss=history.history['val_loss']\n",
    "\n",
    "epochs=range(len(acc))\n",
    "\n",
    "plt.plot(history.history['accuracy'])\n",
    "plt.plot(history.history['val_accuracy'])\n",
    "plt.title('Training and validation accuracy')\n",
    "plt.legend(['train', 'val'], loc='upper left')\n",
    "plt.ylabel('accuracy')\n",
    "plt.xlabel('epoch')\n",
    "plt.figure()\n",
    "\n",
    "plt.plot(history.history['loss'])\n",
    "plt.plot(history.history['val_loss'])\n",
    "plt.title('Training and validation loss')\n",
    "plt.legend(['train', 'val'], loc='upper left')\n",
    "plt.ylabel('Loss')\n",
    "plt.xlabel('epoch')\n",
    "\n",
    "\n",
    "plt.title('Training and validation loss')"
   ]
  },
  {
   "cell_type": "code",
   "execution_count": 15,
   "id": "dbb30dac",
   "metadata": {
    "execution": {
     "iopub.execute_input": "2021-11-07T17:25:32.755599Z",
     "iopub.status.busy": "2021-11-07T17:25:32.754063Z",
     "iopub.status.idle": "2021-11-07T17:25:32.756238Z",
     "shell.execute_reply": "2021-11-07T17:25:32.756672Z",
     "shell.execute_reply.started": "2021-11-07T15:28:05.388791Z"
    },
    "papermill": {
     "duration": 0.074125,
     "end_time": "2021-11-07T17:25:32.756799",
     "exception": false,
     "start_time": "2021-11-07T17:25:32.682674",
     "status": "completed"
    },
    "tags": []
   },
   "outputs": [],
   "source": [
    "# %load_ext tensorboard\n",
    "# %tensorboard --logdir logs\n",
    "# %reload_ext tensorboard"
   ]
  },
  {
   "cell_type": "code",
   "execution_count": 16,
   "id": "163f000d",
   "metadata": {
    "execution": {
     "iopub.execute_input": "2021-11-07T17:25:32.904590Z",
     "iopub.status.busy": "2021-11-07T17:25:32.903088Z",
     "iopub.status.idle": "2021-11-07T17:25:32.905314Z",
     "shell.execute_reply": "2021-11-07T17:25:32.905769Z",
     "shell.execute_reply.started": "2021-11-07T15:28:05.396047Z"
    },
    "papermill": {
     "duration": 0.080578,
     "end_time": "2021-11-07T17:25:32.905891",
     "exception": false,
     "start_time": "2021-11-07T17:25:32.825313",
     "status": "completed"
    },
    "tags": []
   },
   "outputs": [],
   "source": [
    "X=[]"
   ]
  },
  {
   "cell_type": "markdown",
   "id": "241e6955",
   "metadata": {
    "papermill": {
     "duration": 0.069062,
     "end_time": "2021-11-07T17:25:33.043958",
     "exception": false,
     "start_time": "2021-11-07T17:25:32.974896",
     "status": "completed"
    },
    "tags": []
   },
   "source": [
    "# ✨ Testing"
   ]
  },
  {
   "cell_type": "code",
   "execution_count": 17,
   "id": "d30a03dd",
   "metadata": {
    "execution": {
     "iopub.execute_input": "2021-11-07T17:25:33.189338Z",
     "iopub.status.busy": "2021-11-07T17:25:33.188669Z",
     "iopub.status.idle": "2021-11-07T17:25:33.191375Z",
     "shell.execute_reply": "2021-11-07T17:25:33.191806Z",
     "shell.execute_reply.started": "2021-11-07T15:28:05.414893Z"
    },
    "papermill": {
     "duration": 0.078605,
     "end_time": "2021-11-07T17:25:33.191928",
     "exception": false,
     "start_time": "2021-11-07T17:25:33.113323",
     "status": "completed"
    },
    "tags": []
   },
   "outputs": [
    {
     "data": {
      "text/html": [
       "<div>\n",
       "<style scoped>\n",
       "    .dataframe tbody tr th:only-of-type {\n",
       "        vertical-align: middle;\n",
       "    }\n",
       "\n",
       "    .dataframe tbody tr th {\n",
       "        vertical-align: top;\n",
       "    }\n",
       "\n",
       "    .dataframe thead th {\n",
       "        text-align: right;\n",
       "    }\n",
       "</style>\n",
       "<table border=\"1\" class=\"dataframe\">\n",
       "  <thead>\n",
       "    <tr style=\"text-align: right;\">\n",
       "      <th></th>\n",
       "      <th>id</th>\n",
       "    </tr>\n",
       "  </thead>\n",
       "  <tbody>\n",
       "    <tr>\n",
       "      <th>0</th>\n",
       "      <td>00000</td>\n",
       "    </tr>\n",
       "    <tr>\n",
       "      <th>1</th>\n",
       "      <td>00001</td>\n",
       "    </tr>\n",
       "    <tr>\n",
       "      <th>2</th>\n",
       "      <td>00002</td>\n",
       "    </tr>\n",
       "    <tr>\n",
       "      <th>3</th>\n",
       "      <td>00003</td>\n",
       "    </tr>\n",
       "    <tr>\n",
       "      <th>4</th>\n",
       "      <td>00004</td>\n",
       "    </tr>\n",
       "  </tbody>\n",
       "</table>\n",
       "</div>"
      ],
      "text/plain": [
       "      id\n",
       "0  00000\n",
       "1  00001\n",
       "2  00002\n",
       "3  00003\n",
       "4  00004"
      ]
     },
     "execution_count": 17,
     "metadata": {},
     "output_type": "execute_result"
    }
   ],
   "source": [
    "test.head()"
   ]
  },
  {
   "cell_type": "code",
   "execution_count": 18,
   "id": "28ab106d",
   "metadata": {
    "execution": {
     "iopub.execute_input": "2021-11-07T17:25:33.336166Z",
     "iopub.status.busy": "2021-11-07T17:25:33.334595Z",
     "iopub.status.idle": "2021-11-07T17:25:33.336838Z",
     "shell.execute_reply": "2021-11-07T17:25:33.337239Z",
     "shell.execute_reply.started": "2021-11-07T15:28:05.432606Z"
    },
    "papermill": {
     "duration": 0.075828,
     "end_time": "2021-11-07T17:25:33.337352",
     "exception": false,
     "start_time": "2021-11-07T17:25:33.261524",
     "status": "completed"
    },
    "tags": []
   },
   "outputs": [],
   "source": [
    "def load_data(path):\n",
    "    for image in test['id']:\n",
    "        image_path = path+image+'.png'\n",
    "        img = cv2.imread(image_path)\n",
    "        X.append(np.array(img))\n",
    "    return X"
   ]
  },
  {
   "cell_type": "code",
   "execution_count": 19,
   "id": "c76326be",
   "metadata": {
    "execution": {
     "iopub.execute_input": "2021-11-07T17:25:33.483153Z",
     "iopub.status.busy": "2021-11-07T17:25:33.482236Z",
     "iopub.status.idle": "2021-11-07T17:25:33.485297Z",
     "shell.execute_reply": "2021-11-07T17:25:33.485741Z",
     "shell.execute_reply.started": "2021-11-07T15:28:05.445585Z"
    },
    "papermill": {
     "duration": 0.079315,
     "end_time": "2021-11-07T17:25:33.485861",
     "exception": false,
     "start_time": "2021-11-07T17:25:33.406546",
     "status": "completed"
    },
    "tags": []
   },
   "outputs": [
    {
     "data": {
      "text/html": [
       "<div>\n",
       "<style scoped>\n",
       "    .dataframe tbody tr th:only-of-type {\n",
       "        vertical-align: middle;\n",
       "    }\n",
       "\n",
       "    .dataframe tbody tr th {\n",
       "        vertical-align: top;\n",
       "    }\n",
       "\n",
       "    .dataframe thead th {\n",
       "        text-align: right;\n",
       "    }\n",
       "</style>\n",
       "<table border=\"1\" class=\"dataframe\">\n",
       "  <thead>\n",
       "    <tr style=\"text-align: right;\">\n",
       "      <th></th>\n",
       "      <th>id</th>\n",
       "    </tr>\n",
       "  </thead>\n",
       "  <tbody>\n",
       "    <tr>\n",
       "      <th>0</th>\n",
       "      <td>00000</td>\n",
       "    </tr>\n",
       "    <tr>\n",
       "      <th>1</th>\n",
       "      <td>00001</td>\n",
       "    </tr>\n",
       "    <tr>\n",
       "      <th>2</th>\n",
       "      <td>00002</td>\n",
       "    </tr>\n",
       "    <tr>\n",
       "      <th>3</th>\n",
       "      <td>00003</td>\n",
       "    </tr>\n",
       "    <tr>\n",
       "      <th>4</th>\n",
       "      <td>00004</td>\n",
       "    </tr>\n",
       "  </tbody>\n",
       "</table>\n",
       "</div>"
      ],
      "text/plain": [
       "      id\n",
       "0  00000\n",
       "1  00001\n",
       "2  00002\n",
       "3  00003\n",
       "4  00004"
      ]
     },
     "execution_count": 19,
     "metadata": {},
     "output_type": "execute_result"
    }
   ],
   "source": [
    "test.head()"
   ]
  },
  {
   "cell_type": "code",
   "execution_count": 20,
   "id": "7c7e4aeb",
   "metadata": {
    "execution": {
     "iopub.execute_input": "2021-11-07T17:25:33.627957Z",
     "iopub.status.busy": "2021-11-07T17:25:33.627430Z",
     "iopub.status.idle": "2021-11-07T17:25:46.963926Z",
     "shell.execute_reply": "2021-11-07T17:25:46.964386Z",
     "shell.execute_reply.started": "2021-11-07T15:28:05.462190Z"
    },
    "papermill": {
     "duration": 13.409378,
     "end_time": "2021-11-07T17:25:46.964665",
     "exception": false,
     "start_time": "2021-11-07T17:25:33.555287",
     "status": "completed"
    },
    "tags": []
   },
   "outputs": [],
   "source": [
    "X_test=load_data('/kaggle/input/arabic-hwr-ai-pro-intake1/test/')"
   ]
  },
  {
   "cell_type": "code",
   "execution_count": 21,
   "id": "2a2d5000",
   "metadata": {
    "execution": {
     "iopub.execute_input": "2021-11-07T17:25:47.110136Z",
     "iopub.status.busy": "2021-11-07T17:25:47.109178Z",
     "iopub.status.idle": "2021-11-07T17:25:47.116420Z",
     "shell.execute_reply": "2021-11-07T17:25:47.115968Z",
     "shell.execute_reply.started": "2021-11-07T15:28:16.153810Z"
    },
    "papermill": {
     "duration": 0.080989,
     "end_time": "2021-11-07T17:25:47.116540",
     "exception": false,
     "start_time": "2021-11-07T17:25:47.035551",
     "status": "completed"
    },
    "tags": []
   },
   "outputs": [],
   "source": [
    "X_test=np.array(X_test)"
   ]
  },
  {
   "cell_type": "code",
   "execution_count": 22,
   "id": "6241c757",
   "metadata": {
    "execution": {
     "iopub.execute_input": "2021-11-07T17:25:47.263092Z",
     "iopub.status.busy": "2021-11-07T17:25:47.261834Z",
     "iopub.status.idle": "2021-11-07T17:25:53.207670Z",
     "shell.execute_reply": "2021-11-07T17:25:53.207148Z",
     "shell.execute_reply.started": "2021-11-07T15:28:16.169188Z"
    },
    "papermill": {
     "duration": 6.019954,
     "end_time": "2021-11-07T17:25:53.207822",
     "exception": false,
     "start_time": "2021-11-07T17:25:47.187868",
     "status": "completed"
    },
    "tags": []
   },
   "outputs": [],
   "source": [
    "pred=model.predict(X_test)\n",
    "preds=np.argmax(pred,axis=-1)"
   ]
  },
  {
   "cell_type": "code",
   "execution_count": 23,
   "id": "a8eed704",
   "metadata": {
    "execution": {
     "iopub.execute_input": "2021-11-07T17:25:53.355068Z",
     "iopub.status.busy": "2021-11-07T17:25:53.353509Z",
     "iopub.status.idle": "2021-11-07T17:25:53.355686Z",
     "shell.execute_reply": "2021-11-07T17:25:53.356080Z",
     "shell.execute_reply.started": "2021-11-07T15:28:22.259254Z"
    },
    "papermill": {
     "duration": 0.07784,
     "end_time": "2021-11-07T17:25:53.356217",
     "exception": false,
     "start_time": "2021-11-07T17:25:53.278377",
     "status": "completed"
    },
    "tags": []
   },
   "outputs": [],
   "source": [
    "test['label']=preds\n",
    "test['label']=test['label']+1"
   ]
  },
  {
   "cell_type": "markdown",
   "id": "87f99194",
   "metadata": {
    "papermill": {
     "duration": 0.069175,
     "end_time": "2021-11-07T17:25:53.494877",
     "exception": false,
     "start_time": "2021-11-07T17:25:53.425702",
     "status": "completed"
    },
    "tags": []
   },
   "source": [
    "# ✨ Generating Submission File"
   ]
  },
  {
   "cell_type": "code",
   "execution_count": 24,
   "id": "9cfa6083",
   "metadata": {
    "execution": {
     "iopub.execute_input": "2021-11-07T17:25:53.638170Z",
     "iopub.status.busy": "2021-11-07T17:25:53.637378Z",
     "iopub.status.idle": "2021-11-07T17:25:53.647651Z",
     "shell.execute_reply": "2021-11-07T17:25:53.647210Z",
     "shell.execute_reply.started": "2021-11-07T15:28:22.285062Z"
    },
    "papermill": {
     "duration": 0.083213,
     "end_time": "2021-11-07T17:25:53.647763",
     "exception": false,
     "start_time": "2021-11-07T17:25:53.564550",
     "status": "completed"
    },
    "tags": []
   },
   "outputs": [],
   "source": [
    "test.to_csv('/kaggle/working/submission.csv', index=False)"
   ]
  }
 ],
 "metadata": {
  "kernelspec": {
   "display_name": "Python 3",
   "language": "python",
   "name": "python3"
  },
  "language_info": {
   "codemirror_mode": {
    "name": "ipython",
    "version": 3
   },
   "file_extension": ".py",
   "mimetype": "text/x-python",
   "name": "python",
   "nbconvert_exporter": "python",
   "pygments_lexer": "ipython3",
   "version": "3.7.10"
  },
  "papermill": {
   "default_parameters": {},
   "duration": 2634.402421,
   "end_time": "2021-11-07T17:25:57.276562",
   "environment_variables": {},
   "exception": null,
   "input_path": "__notebook__.ipynb",
   "output_path": "__notebook__.ipynb",
   "parameters": {},
   "start_time": "2021-11-07T16:42:02.874141",
   "version": "2.3.3"
  }
 },
 "nbformat": 4,
 "nbformat_minor": 5
}
