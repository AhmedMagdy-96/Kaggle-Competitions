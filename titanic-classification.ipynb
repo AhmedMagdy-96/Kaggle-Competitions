{
 "cells": [
  {
   "cell_type": "code",
   "execution_count": 1,
   "id": "bd7b9dba",
   "metadata": {
    "_cell_guid": "b1076dfc-b9ad-4769-8c92-a6c4dae69d19",
    "_uuid": "8f2839f25d086af736a60e9eeb907d3b93b6e0e5",
    "execution": {
     "iopub.execute_input": "2021-07-29T20:42:54.669478Z",
     "iopub.status.busy": "2021-07-29T20:42:54.668281Z",
     "iopub.status.idle": "2021-07-29T20:42:56.158933Z",
     "shell.execute_reply": "2021-07-29T20:42:56.158098Z",
     "shell.execute_reply.started": "2021-07-29T20:38:50.431522Z"
    },
    "papermill": {
     "duration": 1.552,
     "end_time": "2021-07-29T20:42:56.159107",
     "exception": false,
     "start_time": "2021-07-29T20:42:54.607107",
     "status": "completed"
    },
    "tags": []
   },
   "outputs": [],
   "source": [
    "# This Python 3 environment comes with many helpful analytics libraries installed\n",
    "# It is defined by the kaggle/python Docker image: https://github.com/kaggle/docker-python\n",
    "# For example, here's several helpful packages to load\n",
    "\n",
    "import numpy as np \n",
    "import pandas as pd \n",
    "import os\n",
    "import matplotlib.pyplot as plt\n",
    "plt.style.use('bmh')\n",
    "import seaborn as sns\n",
    "from sklearn.impute import SimpleImputer\n",
    "from sklearn.metrics import accuracy_score\n",
    "from sklearn.linear_model import LogisticRegression\n",
    "from sklearn.model_selection import StratifiedKFold,GridSearchCV, train_test_split\n",
    "from sklearn.preprocessing import StandardScaler, MinMaxScaler\n",
    "from sklearn.ensemble import RandomForestClassifier, AdaBoostClassifier\n",
    "from sklearn.tree import DecisionTreeClassifier\n",
    "from xgboost import XGBClassifier\n",
    "from sklearn.svm import SVC\n",
    "import time"
   ]
  },
  {
   "cell_type": "code",
   "execution_count": 2,
   "id": "d6f5e289",
   "metadata": {
    "execution": {
     "iopub.execute_input": "2021-07-29T20:42:56.279659Z",
     "iopub.status.busy": "2021-07-29T20:42:56.278779Z",
     "iopub.status.idle": "2021-07-29T20:42:56.354497Z",
     "shell.execute_reply": "2021-07-29T20:42:56.353852Z",
     "shell.execute_reply.started": "2021-07-29T20:38:50.561877Z"
    },
    "papermill": {
     "duration": 0.137758,
     "end_time": "2021-07-29T20:42:56.354633",
     "exception": false,
     "start_time": "2021-07-29T20:42:56.216875",
     "status": "completed"
    },
    "tags": []
   },
   "outputs": [
    {
     "name": "stdout",
     "output_type": "stream",
     "text": [
      "/kaggle/input/titanic/train.csv\n",
      "/kaggle/input/titanic/test.csv\n",
      "/kaggle/input/titanic/gender_submission.csv\n"
     ]
    },
    {
     "data": {
      "text/html": [
       "<div>\n",
       "<style scoped>\n",
       "    .dataframe tbody tr th:only-of-type {\n",
       "        vertical-align: middle;\n",
       "    }\n",
       "\n",
       "    .dataframe tbody tr th {\n",
       "        vertical-align: top;\n",
       "    }\n",
       "\n",
       "    .dataframe thead th {\n",
       "        text-align: right;\n",
       "    }\n",
       "</style>\n",
       "<table border=\"1\" class=\"dataframe\">\n",
       "  <thead>\n",
       "    <tr style=\"text-align: right;\">\n",
       "      <th></th>\n",
       "      <th>Survived</th>\n",
       "      <th>Pclass</th>\n",
       "      <th>Name</th>\n",
       "      <th>Sex</th>\n",
       "      <th>Age</th>\n",
       "      <th>SibSp</th>\n",
       "      <th>Parch</th>\n",
       "      <th>Ticket</th>\n",
       "      <th>Fare</th>\n",
       "      <th>Cabin</th>\n",
       "      <th>Embarked</th>\n",
       "    </tr>\n",
       "    <tr>\n",
       "      <th>PassengerId</th>\n",
       "      <th></th>\n",
       "      <th></th>\n",
       "      <th></th>\n",
       "      <th></th>\n",
       "      <th></th>\n",
       "      <th></th>\n",
       "      <th></th>\n",
       "      <th></th>\n",
       "      <th></th>\n",
       "      <th></th>\n",
       "      <th></th>\n",
       "    </tr>\n",
       "  </thead>\n",
       "  <tbody>\n",
       "    <tr>\n",
       "      <th>1</th>\n",
       "      <td>0</td>\n",
       "      <td>3</td>\n",
       "      <td>Braund, Mr. Owen Harris</td>\n",
       "      <td>male</td>\n",
       "      <td>22.0</td>\n",
       "      <td>1</td>\n",
       "      <td>0</td>\n",
       "      <td>A/5 21171</td>\n",
       "      <td>7.2500</td>\n",
       "      <td>NaN</td>\n",
       "      <td>S</td>\n",
       "    </tr>\n",
       "    <tr>\n",
       "      <th>2</th>\n",
       "      <td>1</td>\n",
       "      <td>1</td>\n",
       "      <td>Cumings, Mrs. John Bradley (Florence Briggs Th...</td>\n",
       "      <td>female</td>\n",
       "      <td>38.0</td>\n",
       "      <td>1</td>\n",
       "      <td>0</td>\n",
       "      <td>PC 17599</td>\n",
       "      <td>71.2833</td>\n",
       "      <td>C85</td>\n",
       "      <td>C</td>\n",
       "    </tr>\n",
       "    <tr>\n",
       "      <th>3</th>\n",
       "      <td>1</td>\n",
       "      <td>3</td>\n",
       "      <td>Heikkinen, Miss. Laina</td>\n",
       "      <td>female</td>\n",
       "      <td>26.0</td>\n",
       "      <td>0</td>\n",
       "      <td>0</td>\n",
       "      <td>STON/O2. 3101282</td>\n",
       "      <td>7.9250</td>\n",
       "      <td>NaN</td>\n",
       "      <td>S</td>\n",
       "    </tr>\n",
       "    <tr>\n",
       "      <th>4</th>\n",
       "      <td>1</td>\n",
       "      <td>1</td>\n",
       "      <td>Futrelle, Mrs. Jacques Heath (Lily May Peel)</td>\n",
       "      <td>female</td>\n",
       "      <td>35.0</td>\n",
       "      <td>1</td>\n",
       "      <td>0</td>\n",
       "      <td>113803</td>\n",
       "      <td>53.1000</td>\n",
       "      <td>C123</td>\n",
       "      <td>S</td>\n",
       "    </tr>\n",
       "    <tr>\n",
       "      <th>5</th>\n",
       "      <td>0</td>\n",
       "      <td>3</td>\n",
       "      <td>Allen, Mr. William Henry</td>\n",
       "      <td>male</td>\n",
       "      <td>35.0</td>\n",
       "      <td>0</td>\n",
       "      <td>0</td>\n",
       "      <td>373450</td>\n",
       "      <td>8.0500</td>\n",
       "      <td>NaN</td>\n",
       "      <td>S</td>\n",
       "    </tr>\n",
       "  </tbody>\n",
       "</table>\n",
       "</div>"
      ],
      "text/plain": [
       "             Survived  Pclass  \\\n",
       "PassengerId                     \n",
       "1                   0       3   \n",
       "2                   1       1   \n",
       "3                   1       3   \n",
       "4                   1       1   \n",
       "5                   0       3   \n",
       "\n",
       "                                                          Name     Sex   Age  \\\n",
       "PassengerId                                                                    \n",
       "1                                      Braund, Mr. Owen Harris    male  22.0   \n",
       "2            Cumings, Mrs. John Bradley (Florence Briggs Th...  female  38.0   \n",
       "3                                       Heikkinen, Miss. Laina  female  26.0   \n",
       "4                 Futrelle, Mrs. Jacques Heath (Lily May Peel)  female  35.0   \n",
       "5                                     Allen, Mr. William Henry    male  35.0   \n",
       "\n",
       "             SibSp  Parch            Ticket     Fare Cabin Embarked  \n",
       "PassengerId                                                          \n",
       "1                1      0         A/5 21171   7.2500   NaN        S  \n",
       "2                1      0          PC 17599  71.2833   C85        C  \n",
       "3                0      0  STON/O2. 3101282   7.9250   NaN        S  \n",
       "4                1      0            113803  53.1000  C123        S  \n",
       "5                0      0            373450   8.0500   NaN        S  "
      ]
     },
     "metadata": {},
     "output_type": "display_data"
    },
    {
     "data": {
      "text/html": [
       "<div>\n",
       "<style scoped>\n",
       "    .dataframe tbody tr th:only-of-type {\n",
       "        vertical-align: middle;\n",
       "    }\n",
       "\n",
       "    .dataframe tbody tr th {\n",
       "        vertical-align: top;\n",
       "    }\n",
       "\n",
       "    .dataframe thead th {\n",
       "        text-align: right;\n",
       "    }\n",
       "</style>\n",
       "<table border=\"1\" class=\"dataframe\">\n",
       "  <thead>\n",
       "    <tr style=\"text-align: right;\">\n",
       "      <th></th>\n",
       "      <th>Pclass</th>\n",
       "      <th>Name</th>\n",
       "      <th>Sex</th>\n",
       "      <th>Age</th>\n",
       "      <th>SibSp</th>\n",
       "      <th>Parch</th>\n",
       "      <th>Ticket</th>\n",
       "      <th>Fare</th>\n",
       "      <th>Cabin</th>\n",
       "      <th>Embarked</th>\n",
       "    </tr>\n",
       "    <tr>\n",
       "      <th>PassengerId</th>\n",
       "      <th></th>\n",
       "      <th></th>\n",
       "      <th></th>\n",
       "      <th></th>\n",
       "      <th></th>\n",
       "      <th></th>\n",
       "      <th></th>\n",
       "      <th></th>\n",
       "      <th></th>\n",
       "      <th></th>\n",
       "    </tr>\n",
       "  </thead>\n",
       "  <tbody>\n",
       "    <tr>\n",
       "      <th>892</th>\n",
       "      <td>3</td>\n",
       "      <td>Kelly, Mr. James</td>\n",
       "      <td>male</td>\n",
       "      <td>34.5</td>\n",
       "      <td>0</td>\n",
       "      <td>0</td>\n",
       "      <td>330911</td>\n",
       "      <td>7.8292</td>\n",
       "      <td>NaN</td>\n",
       "      <td>Q</td>\n",
       "    </tr>\n",
       "    <tr>\n",
       "      <th>893</th>\n",
       "      <td>3</td>\n",
       "      <td>Wilkes, Mrs. James (Ellen Needs)</td>\n",
       "      <td>female</td>\n",
       "      <td>47.0</td>\n",
       "      <td>1</td>\n",
       "      <td>0</td>\n",
       "      <td>363272</td>\n",
       "      <td>7.0000</td>\n",
       "      <td>NaN</td>\n",
       "      <td>S</td>\n",
       "    </tr>\n",
       "    <tr>\n",
       "      <th>894</th>\n",
       "      <td>2</td>\n",
       "      <td>Myles, Mr. Thomas Francis</td>\n",
       "      <td>male</td>\n",
       "      <td>62.0</td>\n",
       "      <td>0</td>\n",
       "      <td>0</td>\n",
       "      <td>240276</td>\n",
       "      <td>9.6875</td>\n",
       "      <td>NaN</td>\n",
       "      <td>Q</td>\n",
       "    </tr>\n",
       "    <tr>\n",
       "      <th>895</th>\n",
       "      <td>3</td>\n",
       "      <td>Wirz, Mr. Albert</td>\n",
       "      <td>male</td>\n",
       "      <td>27.0</td>\n",
       "      <td>0</td>\n",
       "      <td>0</td>\n",
       "      <td>315154</td>\n",
       "      <td>8.6625</td>\n",
       "      <td>NaN</td>\n",
       "      <td>S</td>\n",
       "    </tr>\n",
       "    <tr>\n",
       "      <th>896</th>\n",
       "      <td>3</td>\n",
       "      <td>Hirvonen, Mrs. Alexander (Helga E Lindqvist)</td>\n",
       "      <td>female</td>\n",
       "      <td>22.0</td>\n",
       "      <td>1</td>\n",
       "      <td>1</td>\n",
       "      <td>3101298</td>\n",
       "      <td>12.2875</td>\n",
       "      <td>NaN</td>\n",
       "      <td>S</td>\n",
       "    </tr>\n",
       "  </tbody>\n",
       "</table>\n",
       "</div>"
      ],
      "text/plain": [
       "             Pclass                                          Name     Sex  \\\n",
       "PassengerId                                                                 \n",
       "892               3                              Kelly, Mr. James    male   \n",
       "893               3              Wilkes, Mrs. James (Ellen Needs)  female   \n",
       "894               2                     Myles, Mr. Thomas Francis    male   \n",
       "895               3                              Wirz, Mr. Albert    male   \n",
       "896               3  Hirvonen, Mrs. Alexander (Helga E Lindqvist)  female   \n",
       "\n",
       "              Age  SibSp  Parch   Ticket     Fare Cabin Embarked  \n",
       "PassengerId                                                       \n",
       "892          34.5      0      0   330911   7.8292   NaN        Q  \n",
       "893          47.0      1      0   363272   7.0000   NaN        S  \n",
       "894          62.0      0      0   240276   9.6875   NaN        Q  \n",
       "895          27.0      0      0   315154   8.6625   NaN        S  \n",
       "896          22.0      1      1  3101298  12.2875   NaN        S  "
      ]
     },
     "metadata": {},
     "output_type": "display_data"
    }
   ],
   "source": [
    "\n",
    "for dirname, _, filenames in os.walk('/kaggle/input'):\n",
    "    for filename in filenames:\n",
    "        print(os.path.join(dirname, filename))\n",
    "        \n",
    "x=pd.read_csv('/kaggle/input/titanic/train.csv',index_col='PassengerId')\n",
    "x_test=pd.read_csv('/kaggle/input/titanic/test.csv',index_col='PassengerId')\n",
    "display(x.head())\n",
    "display(x_test.head())"
   ]
  },
  {
   "cell_type": "markdown",
   "id": "e29900ac",
   "metadata": {
    "papermill": {
     "duration": 0.057287,
     "end_time": "2021-07-29T20:42:56.470275",
     "exception": false,
     "start_time": "2021-07-29T20:42:56.412988",
     "status": "completed"
    },
    "tags": []
   },
   "source": [
    "**sibsp=number of siblings or if have wife on ship parch=number of parents or children on the ship embarked=the port he got into the ship from (C = Cherbourg; Q = Queenstown; S = Southampton)**"
   ]
  },
  {
   "cell_type": "markdown",
   "id": "dcfe836f",
   "metadata": {
    "papermill": {
     "duration": 0.057584,
     "end_time": "2021-07-29T20:42:56.585983",
     "exception": false,
     "start_time": "2021-07-29T20:42:56.528399",
     "status": "completed"
    },
    "tags": []
   },
   "source": [
    "# EDA"
   ]
  },
  {
   "cell_type": "markdown",
   "id": "f5deb3ec",
   "metadata": {
    "papermill": {
     "duration": 0.059273,
     "end_time": "2021-07-29T20:42:56.702955",
     "exception": false,
     "start_time": "2021-07-29T20:42:56.643682",
     "status": "completed"
    },
    "tags": []
   },
   "source": [
    "**after Reading documentations of seaborn library i found so much intersting plots that ight help me with visualizations and understanding the data more and getting insights**"
   ]
  },
  {
   "cell_type": "code",
   "execution_count": 3,
   "id": "c4981f46",
   "metadata": {
    "execution": {
     "iopub.execute_input": "2021-07-29T20:42:56.822065Z",
     "iopub.status.busy": "2021-07-29T20:42:56.821086Z",
     "iopub.status.idle": "2021-07-29T20:42:56.871878Z",
     "shell.execute_reply": "2021-07-29T20:42:56.872529Z",
     "shell.execute_reply.started": "2021-07-29T20:38:51.195281Z"
    },
    "papermill": {
     "duration": 0.112058,
     "end_time": "2021-07-29T20:42:56.872757",
     "exception": false,
     "start_time": "2021-07-29T20:42:56.760699",
     "status": "completed"
    },
    "tags": []
   },
   "outputs": [
    {
     "data": {
      "text/html": [
       "<div>\n",
       "<style scoped>\n",
       "    .dataframe tbody tr th:only-of-type {\n",
       "        vertical-align: middle;\n",
       "    }\n",
       "\n",
       "    .dataframe tbody tr th {\n",
       "        vertical-align: top;\n",
       "    }\n",
       "\n",
       "    .dataframe thead th {\n",
       "        text-align: right;\n",
       "    }\n",
       "</style>\n",
       "<table border=\"1\" class=\"dataframe\">\n",
       "  <thead>\n",
       "    <tr style=\"text-align: right;\">\n",
       "      <th></th>\n",
       "      <th>count</th>\n",
       "      <th>mean</th>\n",
       "      <th>std</th>\n",
       "      <th>min</th>\n",
       "      <th>25%</th>\n",
       "      <th>50%</th>\n",
       "      <th>75%</th>\n",
       "      <th>max</th>\n",
       "    </tr>\n",
       "  </thead>\n",
       "  <tbody>\n",
       "    <tr>\n",
       "      <th>Survived</th>\n",
       "      <td>891.0</td>\n",
       "      <td>0.383838</td>\n",
       "      <td>0.486592</td>\n",
       "      <td>0.00</td>\n",
       "      <td>0.0000</td>\n",
       "      <td>0.0000</td>\n",
       "      <td>1.0</td>\n",
       "      <td>1.0000</td>\n",
       "    </tr>\n",
       "    <tr>\n",
       "      <th>Pclass</th>\n",
       "      <td>891.0</td>\n",
       "      <td>2.308642</td>\n",
       "      <td>0.836071</td>\n",
       "      <td>1.00</td>\n",
       "      <td>2.0000</td>\n",
       "      <td>3.0000</td>\n",
       "      <td>3.0</td>\n",
       "      <td>3.0000</td>\n",
       "    </tr>\n",
       "    <tr>\n",
       "      <th>Age</th>\n",
       "      <td>714.0</td>\n",
       "      <td>29.699118</td>\n",
       "      <td>14.526497</td>\n",
       "      <td>0.42</td>\n",
       "      <td>20.1250</td>\n",
       "      <td>28.0000</td>\n",
       "      <td>38.0</td>\n",
       "      <td>80.0000</td>\n",
       "    </tr>\n",
       "    <tr>\n",
       "      <th>SibSp</th>\n",
       "      <td>891.0</td>\n",
       "      <td>0.523008</td>\n",
       "      <td>1.102743</td>\n",
       "      <td>0.00</td>\n",
       "      <td>0.0000</td>\n",
       "      <td>0.0000</td>\n",
       "      <td>1.0</td>\n",
       "      <td>8.0000</td>\n",
       "    </tr>\n",
       "    <tr>\n",
       "      <th>Parch</th>\n",
       "      <td>891.0</td>\n",
       "      <td>0.381594</td>\n",
       "      <td>0.806057</td>\n",
       "      <td>0.00</td>\n",
       "      <td>0.0000</td>\n",
       "      <td>0.0000</td>\n",
       "      <td>0.0</td>\n",
       "      <td>6.0000</td>\n",
       "    </tr>\n",
       "    <tr>\n",
       "      <th>Fare</th>\n",
       "      <td>891.0</td>\n",
       "      <td>32.204208</td>\n",
       "      <td>49.693429</td>\n",
       "      <td>0.00</td>\n",
       "      <td>7.9104</td>\n",
       "      <td>14.4542</td>\n",
       "      <td>31.0</td>\n",
       "      <td>512.3292</td>\n",
       "    </tr>\n",
       "  </tbody>\n",
       "</table>\n",
       "</div>"
      ],
      "text/plain": [
       "          count       mean        std   min      25%      50%   75%       max\n",
       "Survived  891.0   0.383838   0.486592  0.00   0.0000   0.0000   1.0    1.0000\n",
       "Pclass    891.0   2.308642   0.836071  1.00   2.0000   3.0000   3.0    3.0000\n",
       "Age       714.0  29.699118  14.526497  0.42  20.1250  28.0000  38.0   80.0000\n",
       "SibSp     891.0   0.523008   1.102743  0.00   0.0000   0.0000   1.0    8.0000\n",
       "Parch     891.0   0.381594   0.806057  0.00   0.0000   0.0000   0.0    6.0000\n",
       "Fare      891.0  32.204208  49.693429  0.00   7.9104  14.4542  31.0  512.3292"
      ]
     },
     "metadata": {},
     "output_type": "display_data"
    },
    {
     "name": "stdout",
     "output_type": "stream",
     "text": [
      "<class 'pandas.core.frame.DataFrame'>\n",
      "Int64Index: 891 entries, 1 to 891\n",
      "Data columns (total 11 columns):\n",
      " #   Column    Non-Null Count  Dtype  \n",
      "---  ------    --------------  -----  \n",
      " 0   Survived  891 non-null    int64  \n",
      " 1   Pclass    891 non-null    int64  \n",
      " 2   Name      891 non-null    object \n",
      " 3   Sex       891 non-null    object \n",
      " 4   Age       714 non-null    float64\n",
      " 5   SibSp     891 non-null    int64  \n",
      " 6   Parch     891 non-null    int64  \n",
      " 7   Ticket    891 non-null    object \n",
      " 8   Fare      891 non-null    float64\n",
      " 9   Cabin     204 non-null    object \n",
      " 10  Embarked  889 non-null    object \n",
      "dtypes: float64(2), int64(4), object(5)\n",
      "memory usage: 83.5+ KB\n"
     ]
    },
    {
     "data": {
      "text/plain": [
       "None"
      ]
     },
     "metadata": {},
     "output_type": "display_data"
    }
   ],
   "source": [
    "display(x.describe().T)\n",
    "display(x.info())"
   ]
  },
  {
   "cell_type": "code",
   "execution_count": 4,
   "id": "473669f0",
   "metadata": {
    "execution": {
     "iopub.execute_input": "2021-07-29T20:42:57.005041Z",
     "iopub.status.busy": "2021-07-29T20:42:57.003977Z",
     "iopub.status.idle": "2021-07-29T20:42:57.272854Z",
     "shell.execute_reply": "2021-07-29T20:42:57.271527Z",
     "shell.execute_reply.started": "2021-07-29T20:38:51.288460Z"
    },
    "papermill": {
     "duration": 0.339929,
     "end_time": "2021-07-29T20:42:57.273062",
     "exception": false,
     "start_time": "2021-07-29T20:42:56.933133",
     "status": "completed"
    },
    "tags": []
   },
   "outputs": [
    {
     "data": {
      "text/plain": [
       "<seaborn.axisgrid.FacetGrid at 0x7f31a3eb0f10>"
      ]
     },
     "execution_count": 4,
     "metadata": {},
     "output_type": "execute_result"
    },
    {
     "data": {
      "image/png": "[encoded data removed]",
      "text/plain": [
       "<Figure size 360x360 with 1 Axes>"
      ]
     },
     "metadata": {
      "needs_background": "light"
     },
     "output_type": "display_data"
    }
   ],
   "source": [
    "sns.catplot(x=\"Survived\", kind=\"count\", palette=\"ch:.25\", data=x)"
   ]
  },
  {
   "cell_type": "markdown",
   "id": "d2bdd38c",
   "metadata": {
    "papermill": {
     "duration": 0.059891,
     "end_time": "2021-07-29T20:42:57.393442",
     "exception": false,
     "start_time": "2021-07-29T20:42:57.333551",
     "status": "completed"
    },
    "tags": []
   },
   "source": [
    "**from previous plot Survived People less than unsurvived**"
   ]
  },
  {
   "cell_type": "markdown",
   "id": "12a0f118",
   "metadata": {
    "papermill": {
     "duration": 0.059872,
     "end_time": "2021-07-29T20:42:57.513453",
     "exception": false,
     "start_time": "2021-07-29T20:42:57.453581",
     "status": "completed"
    },
    "tags": []
   },
   "source": [
    "**survival percent of passengers according to the class they belong to**"
   ]
  },
  {
   "cell_type": "code",
   "execution_count": 5,
   "id": "e00c459d",
   "metadata": {
    "execution": {
     "iopub.execute_input": "2021-07-29T20:42:57.643121Z",
     "iopub.status.busy": "2021-07-29T20:42:57.642461Z",
     "iopub.status.idle": "2021-07-29T20:42:57.651167Z",
     "shell.execute_reply": "2021-07-29T20:42:57.651728Z",
     "shell.execute_reply.started": "2021-07-29T20:38:51.815408Z"
    },
    "papermill": {
     "duration": 0.077319,
     "end_time": "2021-07-29T20:42:57.651901",
     "exception": false,
     "start_time": "2021-07-29T20:42:57.574582",
     "status": "completed"
    },
    "tags": []
   },
   "outputs": [
    {
     "data": {
      "text/html": [
       "<div>\n",
       "<style scoped>\n",
       "    .dataframe tbody tr th:only-of-type {\n",
       "        vertical-align: middle;\n",
       "    }\n",
       "\n",
       "    .dataframe tbody tr th {\n",
       "        vertical-align: top;\n",
       "    }\n",
       "\n",
       "    .dataframe thead th {\n",
       "        text-align: right;\n",
       "    }\n",
       "</style>\n",
       "<table border=\"1\" class=\"dataframe\">\n",
       "  <thead>\n",
       "    <tr style=\"text-align: right;\">\n",
       "      <th></th>\n",
       "      <th>Pclass</th>\n",
       "      <th>Survived</th>\n",
       "    </tr>\n",
       "  </thead>\n",
       "  <tbody>\n",
       "    <tr>\n",
       "      <th>0</th>\n",
       "      <td>1</td>\n",
       "      <td>0.629630</td>\n",
       "    </tr>\n",
       "    <tr>\n",
       "      <th>1</th>\n",
       "      <td>2</td>\n",
       "      <td>0.472826</td>\n",
       "    </tr>\n",
       "    <tr>\n",
       "      <th>2</th>\n",
       "      <td>3</td>\n",
       "      <td>0.242363</td>\n",
       "    </tr>\n",
       "  </tbody>\n",
       "</table>\n",
       "</div>"
      ],
      "text/plain": [
       "   Pclass  Survived\n",
       "0       1  0.629630\n",
       "1       2  0.472826\n",
       "2       3  0.242363"
      ]
     },
     "execution_count": 5,
     "metadata": {},
     "output_type": "execute_result"
    }
   ],
   "source": [
    "x[['Pclass', 'Survived']].groupby(['Pclass'], as_index=False).mean().sort_values(by='Survived', ascending=False)"
   ]
  },
  {
   "cell_type": "markdown",
   "id": "12867709",
   "metadata": {
    "papermill": {
     "duration": 0.060718,
     "end_time": "2021-07-29T20:42:57.774387",
     "exception": false,
     "start_time": "2021-07-29T20:42:57.713669",
     "status": "completed"
    },
    "tags": []
   },
   "source": [
    "**higher class means more survival persent,might be an indicator that percent of rich people is more than poor**"
   ]
  },
  {
   "cell_type": "markdown",
   "id": "6003faab",
   "metadata": {
    "papermill": {
     "duration": 0.060512,
     "end_time": "2021-07-29T20:42:57.896265",
     "exception": false,
     "start_time": "2021-07-29T20:42:57.835753",
     "status": "completed"
    },
    "tags": []
   },
   "source": [
    "**percent of survival passenegers according to thier gender**"
   ]
  },
  {
   "cell_type": "code",
   "execution_count": 6,
   "id": "cdcdaa94",
   "metadata": {
    "execution": {
     "iopub.execute_input": "2021-07-29T20:42:58.021040Z",
     "iopub.status.busy": "2021-07-29T20:42:58.020431Z",
     "iopub.status.idle": "2021-07-29T20:42:58.034117Z",
     "shell.execute_reply": "2021-07-29T20:42:58.034647Z",
     "shell.execute_reply.started": "2021-07-29T20:38:52.248505Z"
    },
    "papermill": {
     "duration": 0.077764,
     "end_time": "2021-07-29T20:42:58.034799",
     "exception": false,
     "start_time": "2021-07-29T20:42:57.957035",
     "status": "completed"
    },
    "tags": []
   },
   "outputs": [
    {
     "data": {
      "text/html": [
       "<div>\n",
       "<style scoped>\n",
       "    .dataframe tbody tr th:only-of-type {\n",
       "        vertical-align: middle;\n",
       "    }\n",
       "\n",
       "    .dataframe tbody tr th {\n",
       "        vertical-align: top;\n",
       "    }\n",
       "\n",
       "    .dataframe thead th {\n",
       "        text-align: right;\n",
       "    }\n",
       "</style>\n",
       "<table border=\"1\" class=\"dataframe\">\n",
       "  <thead>\n",
       "    <tr style=\"text-align: right;\">\n",
       "      <th></th>\n",
       "      <th>Sex</th>\n",
       "      <th>Survived</th>\n",
       "    </tr>\n",
       "  </thead>\n",
       "  <tbody>\n",
       "    <tr>\n",
       "      <th>0</th>\n",
       "      <td>female</td>\n",
       "      <td>0.742038</td>\n",
       "    </tr>\n",
       "    <tr>\n",
       "      <th>1</th>\n",
       "      <td>male</td>\n",
       "      <td>0.188908</td>\n",
       "    </tr>\n",
       "  </tbody>\n",
       "</table>\n",
       "</div>"
      ],
      "text/plain": [
       "      Sex  Survived\n",
       "0  female  0.742038\n",
       "1    male  0.188908"
      ]
     },
     "execution_count": 6,
     "metadata": {},
     "output_type": "execute_result"
    }
   ],
   "source": [
    "x[[\"Sex\", \"Survived\"]].groupby(['Sex'], as_index=False).mean().sort_values(by='Survived', ascending=False)"
   ]
  },
  {
   "cell_type": "code",
   "execution_count": 7,
   "id": "bfe8c5c0",
   "metadata": {
    "execution": {
     "iopub.execute_input": "2021-07-29T20:42:58.168131Z",
     "iopub.status.busy": "2021-07-29T20:42:58.167501Z",
     "iopub.status.idle": "2021-07-29T20:42:58.444802Z",
     "shell.execute_reply": "2021-07-29T20:42:58.445270Z",
     "shell.execute_reply.started": "2021-07-29T20:38:52.424353Z"
    },
    "papermill": {
     "duration": 0.348331,
     "end_time": "2021-07-29T20:42:58.445443",
     "exception": false,
     "start_time": "2021-07-29T20:42:58.097112",
     "status": "completed"
    },
    "tags": []
   },
   "outputs": [
    {
     "data": {
      "text/plain": [
       "<seaborn.axisgrid.FacetGrid at 0x7f31aa6067d0>"
      ]
     },
     "execution_count": 7,
     "metadata": {},
     "output_type": "execute_result"
    },
    {
     "data": {
      "image/png": "[encoded data removed]",
      "text/plain": [
       "<Figure size 360x360 with 1 Axes>"
      ]
     },
     "metadata": {
      "needs_background": "light"
     },
     "output_type": "display_data"
    }
   ],
   "source": [
    "sns.catplot(x=\"Sex\", y=\"Survived\", kind=\"bar\", data=x)"
   ]
  },
  {
   "cell_type": "markdown",
   "id": "65bec395",
   "metadata": {
    "papermill": {
     "duration": 0.061351,
     "end_time": "2021-07-29T20:42:58.568735",
     "exception": false,
     "start_time": "2021-07-29T20:42:58.507384",
     "status": "completed"
    },
    "tags": []
   },
   "source": [
    "**Female survival rate is much higher than that of male**"
   ]
  },
  {
   "cell_type": "code",
   "execution_count": 8,
   "id": "2f3f78b8",
   "metadata": {
    "execution": {
     "iopub.execute_input": "2021-07-29T20:42:58.738694Z",
     "iopub.status.busy": "2021-07-29T20:42:58.738061Z",
     "iopub.status.idle": "2021-07-29T20:42:58.899209Z",
     "shell.execute_reply": "2021-07-29T20:42:58.898537Z",
     "shell.execute_reply.started": "2021-07-29T20:38:52.784512Z"
    },
    "papermill": {
     "duration": 0.268557,
     "end_time": "2021-07-29T20:42:58.899347",
     "exception": false,
     "start_time": "2021-07-29T20:42:58.630790",
     "status": "completed"
    },
    "tags": []
   },
   "outputs": [
    {
     "data": {
      "text/plain": [
       "<seaborn.axisgrid.FacetGrid at 0x7f3170cc1ed0>"
      ]
     },
     "execution_count": 8,
     "metadata": {},
     "output_type": "execute_result"
    },
    {
     "data": {
      "image/png": "[encoded data removed]",
      "text/plain": [
       "<Figure size 360x360 with 1 Axes>"
      ]
     },
     "metadata": {
      "needs_background": "light"
     },
     "output_type": "display_data"
    }
   ],
   "source": [
    "sns.catplot(x=\"Sex\", kind=\"count\", palette=\"ch:.25\", data=x)"
   ]
  },
  {
   "cell_type": "markdown",
   "id": "a9706942",
   "metadata": {
    "execution": {
     "iopub.execute_input": "2021-07-29T18:37:53.987214Z",
     "iopub.status.busy": "2021-07-29T18:37:53.986830Z",
     "iopub.status.idle": "2021-07-29T18:37:53.993984Z",
     "shell.execute_reply": "2021-07-29T18:37:53.992322Z",
     "shell.execute_reply.started": "2021-07-29T18:37:53.987183Z"
    },
    "papermill": {
     "duration": 0.064096,
     "end_time": "2021-07-29T20:42:59.027245",
     "exception": false,
     "start_time": "2021-07-29T20:42:58.963149",
     "status": "completed"
    },
    "tags": []
   },
   "source": [
    "**number of females passengers on the ship is much more than that of males**"
   ]
  },
  {
   "cell_type": "markdown",
   "id": "84e9973c",
   "metadata": {
    "papermill": {
     "duration": 0.062394,
     "end_time": "2021-07-29T20:42:59.153664",
     "exception": false,
     "start_time": "2021-07-29T20:42:59.091270",
     "status": "completed"
    },
    "tags": []
   },
   "source": [
    "**i wanted to see the distribution of pclass of passengers according to gender as it might give me an insight or observation that leads to a powerfull feature**"
   ]
  },
  {
   "cell_type": "code",
   "execution_count": 9,
   "id": "a226f216",
   "metadata": {
    "execution": {
     "iopub.execute_input": "2021-07-29T20:42:59.288705Z",
     "iopub.status.busy": "2021-07-29T20:42:59.288033Z",
     "iopub.status.idle": "2021-07-29T20:42:59.947086Z",
     "shell.execute_reply": "2021-07-29T20:42:59.947632Z",
     "shell.execute_reply.started": "2021-07-29T20:38:53.227286Z"
    },
    "papermill": {
     "duration": 0.731101,
     "end_time": "2021-07-29T20:42:59.947793",
     "exception": false,
     "start_time": "2021-07-29T20:42:59.216692",
     "status": "completed"
    },
    "tags": []
   },
   "outputs": [
    {
     "data": {
      "text/plain": [
       "<seaborn.axisgrid.FacetGrid at 0x7f31a3eb6dd0>"
      ]
     },
     "execution_count": 9,
     "metadata": {},
     "output_type": "execute_result"
    },
    {
     "data": {
      "image/png": "[encoded data removed]",
      "text/plain": [
       "<Figure size 402.375x360 with 1 Axes>"
      ]
     },
     "metadata": {
      "needs_background": "light"
     },
     "output_type": "display_data"
    }
   ],
   "source": [
    "sns.catplot(x=\"Sex\", y=\"Survived\", hue=\"Pclass\", kind=\"bar\", data=x)"
   ]
  },
  {
   "cell_type": "markdown",
   "id": "2cb588ff",
   "metadata": {
    "papermill": {
     "duration": 0.066169,
     "end_time": "2021-07-29T20:43:00.078164",
     "exception": false,
     "start_time": "2021-07-29T20:43:00.011995",
     "status": "completed"
    },
    "tags": []
   },
   "source": [
    "**i found a strange and an intersting thing that males pclass 1 percent according to the other pclasses are higher than that of the females however from previouse plos higher pclass means more survival an females survival ate is much more than males**"
   ]
  },
  {
   "cell_type": "markdown",
   "id": "a5482421",
   "metadata": {
    "papermill": {
     "duration": 0.063926,
     "end_time": "2021-07-29T20:43:00.206190",
     "exception": false,
     "start_time": "2021-07-29T20:43:00.142264",
     "status": "completed"
    },
    "tags": []
   },
   "source": [
    "**then i wnated to see what is the survival rate of males and females according to the port they joined he ship from**"
   ]
  },
  {
   "cell_type": "code",
   "execution_count": 10,
   "id": "cd793201",
   "metadata": {
    "execution": {
     "iopub.execute_input": "2021-07-29T20:43:00.338037Z",
     "iopub.status.busy": "2021-07-29T20:43:00.337066Z",
     "iopub.status.idle": "2021-07-29T20:43:00.874702Z",
     "shell.execute_reply": "2021-07-29T20:43:00.875329Z",
     "shell.execute_reply.started": "2021-07-29T20:38:53.756316Z"
    },
    "papermill": {
     "duration": 0.604973,
     "end_time": "2021-07-29T20:43:00.875499",
     "exception": false,
     "start_time": "2021-07-29T20:43:00.270526",
     "status": "completed"
    },
    "tags": []
   },
   "outputs": [
    {
     "data": {
      "text/plain": [
       "<seaborn.axisgrid.FacetGrid at 0x7f3170b7af50>"
      ]
     },
     "execution_count": 10,
     "metadata": {},
     "output_type": "execute_result"
    },
    {
     "data": {
      "image/png": "[encoded data removed]",
      "text/plain": [
       "<Figure size 418.25x360 with 1 Axes>"
      ]
     },
     "metadata": {
      "needs_background": "light"
     },
     "output_type": "display_data"
    }
   ],
   "source": [
    "sns.catplot(x=\"Sex\", y=\"Survived\", hue=\"Embarked\", kind=\"bar\", data=x)"
   ]
  },
  {
   "cell_type": "code",
   "execution_count": 11,
   "id": "d230642c",
   "metadata": {
    "execution": {
     "iopub.execute_input": "2021-07-29T20:43:01.011242Z",
     "iopub.status.busy": "2021-07-29T20:43:01.010567Z",
     "iopub.status.idle": "2021-07-29T20:43:01.367691Z",
     "shell.execute_reply": "2021-07-29T20:43:01.367160Z",
     "shell.execute_reply.started": "2021-07-29T20:38:54.284854Z"
    },
    "papermill": {
     "duration": 0.426684,
     "end_time": "2021-07-29T20:43:01.367825",
     "exception": false,
     "start_time": "2021-07-29T20:43:00.941141",
     "status": "completed"
    },
    "tags": []
   },
   "outputs": [
    {
     "data": {
      "text/plain": [
       "<seaborn.axisgrid.FacetGrid at 0x7f316e86bf50>"
      ]
     },
     "execution_count": 11,
     "metadata": {},
     "output_type": "execute_result"
    },
    {
     "data": {
      "image/png": "[encoded data removed]",
      "text/plain": [
       "<Figure size 360x360 with 1 Axes>"
      ]
     },
     "metadata": {
      "needs_background": "light"
     },
     "output_type": "display_data"
    }
   ],
   "source": [
    "sns.catplot(x=\"Embarked\", y=\"Survived\", kind=\"bar\", data=x)"
   ]
  },
  {
   "cell_type": "markdown",
   "id": "d073f69f",
   "metadata": {
    "papermill": {
     "duration": 0.066714,
     "end_time": "2021-07-29T20:43:01.501814",
     "exception": false,
     "start_time": "2021-07-29T20:43:01.435100",
     "status": "completed"
    },
    "tags": []
   },
   "source": [
    "**it is obviouse that most of the passengers survived are who joined the ship from Cherbourg Port**"
   ]
  },
  {
   "cell_type": "markdown",
   "id": "28261fe1",
   "metadata": {
    "papermill": {
     "duration": 0.066305,
     "end_time": "2021-07-29T20:43:01.634898",
     "exception": false,
     "start_time": "2021-07-29T20:43:01.568593",
     "status": "completed"
    },
    "tags": []
   },
   "source": [
    "**plotting survival rates of males and females according to number of siblings they have on the ship or if they are married**"
   ]
  },
  {
   "cell_type": "code",
   "execution_count": 12,
   "id": "5875eb1c",
   "metadata": {
    "execution": {
     "iopub.execute_input": "2021-07-29T20:43:01.779181Z",
     "iopub.status.busy": "2021-07-29T20:43:01.775991Z",
     "iopub.status.idle": "2021-07-29T20:43:02.627995Z",
     "shell.execute_reply": "2021-07-29T20:43:02.627411Z",
     "shell.execute_reply.started": "2021-07-29T20:38:54.621174Z"
    },
    "papermill": {
     "duration": 0.925946,
     "end_time": "2021-07-29T20:43:02.628139",
     "exception": false,
     "start_time": "2021-07-29T20:43:01.702193",
     "status": "completed"
    },
    "tags": []
   },
   "outputs": [
    {
     "data": {
      "text/plain": [
       "<seaborn.axisgrid.FacetGrid at 0x7f316e7a5610>"
      ]
     },
     "execution_count": 12,
     "metadata": {},
     "output_type": "execute_result"
    },
    {
     "data": {
      "image/png": "[encoded data removed]",
      "text/plain": [
       "<Figure size 402.375x360 with 1 Axes>"
      ]
     },
     "metadata": {
      "needs_background": "light"
     },
     "output_type": "display_data"
    }
   ],
   "source": [
    "sns.catplot(x=\"Sex\", y=\"Survived\", hue=\"SibSp\", kind=\"bar\", data=x)"
   ]
  },
  {
   "cell_type": "markdown",
   "id": "a74bb0a9",
   "metadata": {
    "papermill": {
     "duration": 0.068239,
     "end_time": "2021-07-29T20:43:02.764964",
     "exception": false,
     "start_time": "2021-07-29T20:43:02.696725",
     "status": "completed"
    },
    "tags": []
   },
   "source": [
    "**most females have 0,1,2 siblings on the ship and survived while males most sirvived who had 1 sibling or had a wife on the ship**"
   ]
  },
  {
   "cell_type": "code",
   "execution_count": 13,
   "id": "f0d64fd5",
   "metadata": {
    "execution": {
     "iopub.execute_input": "2021-07-29T20:43:02.908363Z",
     "iopub.status.busy": "2021-07-29T20:43:02.907679Z",
     "iopub.status.idle": "2021-07-29T20:43:03.425151Z",
     "shell.execute_reply": "2021-07-29T20:43:03.424590Z",
     "shell.execute_reply.started": "2021-07-29T20:38:55.465555Z"
    },
    "papermill": {
     "duration": 0.59176,
     "end_time": "2021-07-29T20:43:03.425305",
     "exception": false,
     "start_time": "2021-07-29T20:43:02.833545",
     "status": "completed"
    },
    "tags": []
   },
   "outputs": [
    {
     "data": {
      "text/plain": [
       "<seaborn.axisgrid.FacetGrid at 0x7f316e8a5e10>"
      ]
     },
     "execution_count": 13,
     "metadata": {},
     "output_type": "execute_result"
    },
    {
     "data": {
      "image/png": "[encoded data removed]",
      "text/plain": [
       "<Figure size 360x360 with 1 Axes>"
      ]
     },
     "metadata": {
      "needs_background": "light"
     },
     "output_type": "display_data"
    }
   ],
   "source": [
    "sns.catplot(x=\"SibSp\", y=\"Survived\", kind=\"bar\", data=x)"
   ]
  },
  {
   "cell_type": "markdown",
   "id": "ec1d1041",
   "metadata": {
    "papermill": {
     "duration": 0.068742,
     "end_time": "2021-07-29T20:43:03.563023",
     "exception": false,
     "start_time": "2021-07-29T20:43:03.494281",
     "status": "completed"
    },
    "tags": []
   },
   "source": [
    "**from previouse plot the rate of survived passengers wo had 1 sibling or married is higher than other passengers**"
   ]
  },
  {
   "cell_type": "code",
   "execution_count": 14,
   "id": "d31a5be0",
   "metadata": {
    "execution": {
     "iopub.execute_input": "2021-07-29T20:43:03.715500Z",
     "iopub.status.busy": "2021-07-29T20:43:03.710012Z",
     "iopub.status.idle": "2021-07-29T20:43:03.718392Z",
     "shell.execute_reply": "2021-07-29T20:43:03.718866Z",
     "shell.execute_reply.started": "2021-07-29T20:38:55.962684Z"
    },
    "papermill": {
     "duration": 0.087267,
     "end_time": "2021-07-29T20:43:03.719041",
     "exception": false,
     "start_time": "2021-07-29T20:43:03.631774",
     "status": "completed"
    },
    "tags": []
   },
   "outputs": [
    {
     "data": {
      "text/html": [
       "<div>\n",
       "<style scoped>\n",
       "    .dataframe tbody tr th:only-of-type {\n",
       "        vertical-align: middle;\n",
       "    }\n",
       "\n",
       "    .dataframe tbody tr th {\n",
       "        vertical-align: top;\n",
       "    }\n",
       "\n",
       "    .dataframe thead th {\n",
       "        text-align: right;\n",
       "    }\n",
       "</style>\n",
       "<table border=\"1\" class=\"dataframe\">\n",
       "  <thead>\n",
       "    <tr style=\"text-align: right;\">\n",
       "      <th></th>\n",
       "      <th>SibSp</th>\n",
       "      <th>Survived</th>\n",
       "    </tr>\n",
       "  </thead>\n",
       "  <tbody>\n",
       "    <tr>\n",
       "      <th>1</th>\n",
       "      <td>1</td>\n",
       "      <td>0.535885</td>\n",
       "    </tr>\n",
       "    <tr>\n",
       "      <th>2</th>\n",
       "      <td>2</td>\n",
       "      <td>0.464286</td>\n",
       "    </tr>\n",
       "    <tr>\n",
       "      <th>0</th>\n",
       "      <td>0</td>\n",
       "      <td>0.345395</td>\n",
       "    </tr>\n",
       "    <tr>\n",
       "      <th>3</th>\n",
       "      <td>3</td>\n",
       "      <td>0.250000</td>\n",
       "    </tr>\n",
       "    <tr>\n",
       "      <th>4</th>\n",
       "      <td>4</td>\n",
       "      <td>0.166667</td>\n",
       "    </tr>\n",
       "    <tr>\n",
       "      <th>5</th>\n",
       "      <td>5</td>\n",
       "      <td>0.000000</td>\n",
       "    </tr>\n",
       "    <tr>\n",
       "      <th>6</th>\n",
       "      <td>8</td>\n",
       "      <td>0.000000</td>\n",
       "    </tr>\n",
       "  </tbody>\n",
       "</table>\n",
       "</div>"
      ],
      "text/plain": [
       "   SibSp  Survived\n",
       "1      1  0.535885\n",
       "2      2  0.464286\n",
       "0      0  0.345395\n",
       "3      3  0.250000\n",
       "4      4  0.166667\n",
       "5      5  0.000000\n",
       "6      8  0.000000"
      ]
     },
     "execution_count": 14,
     "metadata": {},
     "output_type": "execute_result"
    }
   ],
   "source": [
    "x[[\"SibSp\", \"Survived\"]].groupby(['SibSp'], as_index=False).mean().sort_values(by='Survived', ascending=False)"
   ]
  },
  {
   "cell_type": "code",
   "execution_count": 15,
   "id": "96546894",
   "metadata": {
    "execution": {
     "iopub.execute_input": "2021-07-29T20:43:03.862654Z",
     "iopub.status.busy": "2021-07-29T20:43:03.862080Z",
     "iopub.status.idle": "2021-07-29T20:43:04.144315Z",
     "shell.execute_reply": "2021-07-29T20:43:04.144771Z",
     "shell.execute_reply.started": "2021-07-29T20:38:55.983303Z"
    },
    "papermill": {
     "duration": 0.355218,
     "end_time": "2021-07-29T20:43:04.144964",
     "exception": false,
     "start_time": "2021-07-29T20:43:03.789746",
     "status": "completed"
    },
    "tags": []
   },
   "outputs": [
    {
     "data": {
      "text/plain": [
       "<seaborn.axisgrid.FacetGrid at 0x7f316e6857d0>"
      ]
     },
     "execution_count": 15,
     "metadata": {},
     "output_type": "execute_result"
    },
    {
     "data": {
      "image/png": "[encoded data removed]",
      "text/plain": [
       "<Figure size 360x360 with 1 Axes>"
      ]
     },
     "metadata": {
      "needs_background": "light"
     },
     "output_type": "display_data"
    }
   ],
   "source": [
    "sns.catplot(x=\"SibSp\", kind=\"count\", palette=\"ch:.25\", data=x)"
   ]
  },
  {
   "cell_type": "markdown",
   "id": "d78ee52c",
   "metadata": {
    "papermill": {
     "duration": 0.070183,
     "end_time": "2021-07-29T20:43:04.285660",
     "exception": false,
     "start_time": "2021-07-29T20:43:04.215477",
     "status": "completed"
    },
    "tags": []
   },
   "source": [
    "**at the same time most passengers had 0 siblings on the ship or were single**"
   ]
  },
  {
   "cell_type": "code",
   "execution_count": 16,
   "id": "fb9721b3",
   "metadata": {
    "execution": {
     "iopub.execute_input": "2021-07-29T20:43:04.429623Z",
     "iopub.status.busy": "2021-07-29T20:43:04.429012Z",
     "iopub.status.idle": "2021-07-29T20:43:13.016238Z",
     "shell.execute_reply": "2021-07-29T20:43:13.016726Z",
     "shell.execute_reply.started": "2021-07-29T20:38:56.237744Z"
    },
    "papermill": {
     "duration": 8.660913,
     "end_time": "2021-07-29T20:43:13.016886",
     "exception": false,
     "start_time": "2021-07-29T20:43:04.355973",
     "status": "completed"
    },
    "tags": []
   },
   "outputs": [
    {
     "data": {
      "text/plain": [
       "<seaborn.axisgrid.PairGrid at 0x7f316e616c50>"
      ]
     },
     "execution_count": 16,
     "metadata": {},
     "output_type": "execute_result"
    },
    {
     "data": {
      "image/png": "[encoded data removed]",
      "text/plain": [
       "<Figure size 951.875x900 with 30 Axes>"
      ]
     },
     "metadata": {
      "needs_background": "light"
     },
     "output_type": "display_data"
    }
   ],
   "source": [
    "grid = sns.PairGrid(x, hue=\"Survived\")\n",
    "grid.map_offdiag(sns.scatterplot)\n",
    "grid.map_diag(sns.histplot)\n",
    "grid.add_legend()"
   ]
  },
  {
   "cell_type": "code",
   "execution_count": 17,
   "id": "bdffd52c",
   "metadata": {
    "execution": {
     "iopub.execute_input": "2021-07-29T20:43:13.201989Z",
     "iopub.status.busy": "2021-07-29T20:43:13.201015Z",
     "iopub.status.idle": "2021-07-29T20:43:13.508431Z",
     "shell.execute_reply": "2021-07-29T20:43:13.507881Z",
     "shell.execute_reply.started": "2021-07-29T20:39:05.716165Z"
    },
    "papermill": {
     "duration": 0.414343,
     "end_time": "2021-07-29T20:43:13.508570",
     "exception": false,
     "start_time": "2021-07-29T20:43:13.094227",
     "status": "completed"
    },
    "tags": []
   },
   "outputs": [
    {
     "data": {
      "text/plain": [
       "<AxesSubplot:>"
      ]
     },
     "execution_count": 17,
     "metadata": {},
     "output_type": "execute_result"
    },
    {
     "data": {
      "image/png": "[encoded data removed]",
      "text/plain": [
       "<Figure size 360x360 with 2 Axes>"
      ]
     },
     "metadata": {
      "needs_background": "light"
     },
     "output_type": "display_data"
    }
   ],
   "source": [
    "fig, ax = plt.subplots(figsize=(5,5))\n",
    "corr_matrix = x.corr().abs()\n",
    "mask = np.triu(np.ones_like(corr_matrix,dtype = bool))\n",
    "sns.heatmap(corr_matrix, annot=True, mask=mask, linewidths=.5, ax=ax,center=0)"
   ]
  },
  {
   "cell_type": "markdown",
   "id": "c12ee708",
   "metadata": {
    "papermill": {
     "duration": 0.078063,
     "end_time": "2021-07-29T20:43:13.664847",
     "exception": false,
     "start_time": "2021-07-29T20:43:13.586784",
     "status": "completed"
    },
    "tags": []
   },
   "source": [
    "**after potting the heat map of correlation i found that the pclass is the highest correlated feature to the survival label as i thought above after the plot of survival according to the pclass it might be due to thier economical status**"
   ]
  },
  {
   "cell_type": "markdown",
   "id": "928da278",
   "metadata": {
    "papermill": {
     "duration": 0.077995,
     "end_time": "2021-07-29T20:43:13.822439",
     "exception": false,
     "start_time": "2021-07-29T20:43:13.744444",
     "status": "completed"
    },
    "tags": []
   },
   "source": [
    "# PreProcessing and Feature Engineering"
   ]
  },
  {
   "cell_type": "markdown",
   "id": "c537e4aa",
   "metadata": {
    "papermill": {
     "duration": 0.079202,
     "end_time": "2021-07-29T20:43:13.980749",
     "exception": false,
     "start_time": "2021-07-29T20:43:13.901547",
     "status": "completed"
    },
    "tags": []
   },
   "source": [
    "**i think the name column is a very valuable feature as i can get the nickname or the title of the passenger from it and see if there are more featues i can get from this column**"
   ]
  },
  {
   "cell_type": "code",
   "execution_count": 18,
   "id": "f27794b3",
   "metadata": {
    "execution": {
     "iopub.execute_input": "2021-07-29T20:43:14.148414Z",
     "iopub.status.busy": "2021-07-29T20:43:14.147738Z",
     "iopub.status.idle": "2021-07-29T20:43:14.150796Z",
     "shell.execute_reply": "2021-07-29T20:43:14.150193Z",
     "shell.execute_reply.started": "2021-07-29T20:39:06.040164Z"
    },
    "papermill": {
     "duration": 0.091701,
     "end_time": "2021-07-29T20:43:14.150938",
     "exception": false,
     "start_time": "2021-07-29T20:43:14.059237",
     "status": "completed"
    },
    "tags": []
   },
   "outputs": [],
   "source": [
    "x['Title'] = x.Name.str.extract(' ([A-Za-z]+)\\.', expand=False)\n",
    "x_test['Title'] = x_test.Name.str.extract(' ([A-Za-z]+)\\.', expand=False)"
   ]
  },
  {
   "cell_type": "code",
   "execution_count": 19,
   "id": "88860185",
   "metadata": {
    "execution": {
     "iopub.execute_input": "2021-07-29T20:43:14.316224Z",
     "iopub.status.busy": "2021-07-29T20:43:14.315230Z",
     "iopub.status.idle": "2021-07-29T20:43:14.337841Z",
     "shell.execute_reply": "2021-07-29T20:43:14.337340Z",
     "shell.execute_reply.started": "2021-07-29T20:39:06.053216Z"
    },
    "papermill": {
     "duration": 0.108693,
     "end_time": "2021-07-29T20:43:14.337998",
     "exception": false,
     "start_time": "2021-07-29T20:43:14.229305",
     "status": "completed"
    },
    "tags": []
   },
   "outputs": [
    {
     "data": {
      "text/html": [
       "<div>\n",
       "<style scoped>\n",
       "    .dataframe tbody tr th:only-of-type {\n",
       "        vertical-align: middle;\n",
       "    }\n",
       "\n",
       "    .dataframe tbody tr th {\n",
       "        vertical-align: top;\n",
       "    }\n",
       "\n",
       "    .dataframe thead th {\n",
       "        text-align: right;\n",
       "    }\n",
       "</style>\n",
       "<table border=\"1\" class=\"dataframe\">\n",
       "  <thead>\n",
       "    <tr style=\"text-align: right;\">\n",
       "      <th></th>\n",
       "      <th>8</th>\n",
       "      <th>9</th>\n",
       "      <th>10</th>\n",
       "      <th>11</th>\n",
       "      <th>14</th>\n",
       "      <th>12</th>\n",
       "      <th>2</th>\n",
       "      <th>13</th>\n",
       "      <th>5</th>\n",
       "      <th>3</th>\n",
       "      <th>4</th>\n",
       "      <th>15</th>\n",
       "      <th>6</th>\n",
       "      <th>7</th>\n",
       "      <th>16</th>\n",
       "      <th>1</th>\n",
       "      <th>0</th>\n",
       "    </tr>\n",
       "  </thead>\n",
       "  <tbody>\n",
       "    <tr>\n",
       "      <th>Title</th>\n",
       "      <td>Master</td>\n",
       "      <td>Miss</td>\n",
       "      <td>Mlle</td>\n",
       "      <td>Mme</td>\n",
       "      <td>Ms</td>\n",
       "      <td>Mr</td>\n",
       "      <td>Countess</td>\n",
       "      <td>Mrs</td>\n",
       "      <td>Jonkheer</td>\n",
       "      <td>Don</td>\n",
       "      <td>Dr</td>\n",
       "      <td>Rev</td>\n",
       "      <td>Lady</td>\n",
       "      <td>Major</td>\n",
       "      <td>Sir</td>\n",
       "      <td>Col</td>\n",
       "      <td>Capt</td>\n",
       "    </tr>\n",
       "    <tr>\n",
       "      <th>Age</th>\n",
       "      <td>4.574167</td>\n",
       "      <td>21.773973</td>\n",
       "      <td>24.0</td>\n",
       "      <td>24.0</td>\n",
       "      <td>28.0</td>\n",
       "      <td>32.36809</td>\n",
       "      <td>33.0</td>\n",
       "      <td>35.898148</td>\n",
       "      <td>38.0</td>\n",
       "      <td>40.0</td>\n",
       "      <td>42.0</td>\n",
       "      <td>43.166667</td>\n",
       "      <td>48.0</td>\n",
       "      <td>48.5</td>\n",
       "      <td>49.0</td>\n",
       "      <td>58.0</td>\n",
       "      <td>70.0</td>\n",
       "    </tr>\n",
       "  </tbody>\n",
       "</table>\n",
       "</div>"
      ],
      "text/plain": [
       "             8          9     10    11    14        12        2          13  \\\n",
       "Title    Master       Miss  Mlle   Mme    Ms        Mr  Countess        Mrs   \n",
       "Age    4.574167  21.773973  24.0  24.0  28.0  32.36809      33.0  35.898148   \n",
       "\n",
       "             5     3     4          15    6      7     16    1     0   \n",
       "Title  Jonkheer   Don    Dr        Rev  Lady  Major   Sir   Col  Capt  \n",
       "Age        38.0  40.0  42.0  43.166667  48.0   48.5  49.0  58.0  70.0  "
      ]
     },
     "execution_count": 19,
     "metadata": {},
     "output_type": "execute_result"
    }
   ],
   "source": [
    "#each title mean age\n",
    "x[[\"Title\", \"Age\"]].groupby(['Title'], as_index=False).mean().sort_values(by='Age').T"
   ]
  },
  {
   "cell_type": "code",
   "execution_count": 20,
   "id": "0a8d537e",
   "metadata": {
    "execution": {
     "iopub.execute_input": "2021-07-29T20:43:14.502968Z",
     "iopub.status.busy": "2021-07-29T20:43:14.502111Z",
     "iopub.status.idle": "2021-07-29T20:43:14.930017Z",
     "shell.execute_reply": "2021-07-29T20:43:14.929366Z",
     "shell.execute_reply.started": "2021-07-29T20:39:06.089584Z"
    },
    "papermill": {
     "duration": 0.512223,
     "end_time": "2021-07-29T20:43:14.930152",
     "exception": false,
     "start_time": "2021-07-29T20:43:14.417929",
     "status": "completed"
    },
    "tags": []
   },
   "outputs": [
    {
     "name": "stderr",
     "output_type": "stream",
     "text": [
      "/opt/conda/lib/python3.7/site-packages/seaborn/categorical.py:3772: UserWarning: catplot is a figure-level function and does not accept target axes. You may wish to try countplot\n",
      "  warnings.warn(msg, UserWarning)\n"
     ]
    },
    {
     "data": {
      "text/plain": [
       "<seaborn.axisgrid.FacetGrid at 0x7f316cd5c810>"
      ]
     },
     "execution_count": 20,
     "metadata": {},
     "output_type": "execute_result"
    },
    {
     "data": {
      "image/png": "[encoded data removed]",
      "text/plain": [
       "<Figure size 1440x720 with 1 Axes>"
      ]
     },
     "metadata": {
      "needs_background": "light"
     },
     "output_type": "display_data"
    }
   ],
   "source": [
    "sns.catplot(x=\"Title\", kind=\"count\",height=10,aspect=2, palette=\"ch:.25\",ax=ax, data=x)"
   ]
  },
  {
   "cell_type": "markdown",
   "id": "25b284d3",
   "metadata": {
    "papermill": {
     "duration": 0.080011,
     "end_time": "2021-07-29T20:43:15.094291",
     "exception": false,
     "start_time": "2021-07-29T20:43:15.014280",
     "status": "completed"
    },
    "tags": []
   },
   "source": [
    "**most of the passengers on the ship had the title of Mr which mean age is about 32 so most of the passengers were youth**"
   ]
  },
  {
   "cell_type": "code",
   "execution_count": 21,
   "id": "c04f3ade",
   "metadata": {
    "execution": {
     "iopub.execute_input": "2021-07-29T20:43:15.263714Z",
     "iopub.status.busy": "2021-07-29T20:43:15.262229Z",
     "iopub.status.idle": "2021-07-29T20:43:15.284717Z",
     "shell.execute_reply": "2021-07-29T20:43:15.285203Z",
     "shell.execute_reply.started": "2021-07-29T20:39:06.489625Z"
    },
    "papermill": {
     "duration": 0.110832,
     "end_time": "2021-07-29T20:43:15.285388",
     "exception": false,
     "start_time": "2021-07-29T20:43:15.174556",
     "status": "completed"
    },
    "tags": []
   },
   "outputs": [
    {
     "data": {
      "text/html": [
       "<div>\n",
       "<style scoped>\n",
       "    .dataframe tbody tr th:only-of-type {\n",
       "        vertical-align: middle;\n",
       "    }\n",
       "\n",
       "    .dataframe tbody tr th {\n",
       "        vertical-align: top;\n",
       "    }\n",
       "\n",
       "    .dataframe thead th {\n",
       "        text-align: right;\n",
       "    }\n",
       "</style>\n",
       "<table border=\"1\" class=\"dataframe\">\n",
       "  <thead>\n",
       "    <tr style=\"text-align: right;\">\n",
       "      <th></th>\n",
       "      <th>0</th>\n",
       "      <th>1</th>\n",
       "      <th>2</th>\n",
       "      <th>3</th>\n",
       "      <th>4</th>\n",
       "      <th>5</th>\n",
       "      <th>6</th>\n",
       "      <th>7</th>\n",
       "      <th>8</th>\n",
       "      <th>9</th>\n",
       "      <th>10</th>\n",
       "      <th>11</th>\n",
       "      <th>12</th>\n",
       "      <th>13</th>\n",
       "      <th>14</th>\n",
       "      <th>15</th>\n",
       "      <th>16</th>\n",
       "    </tr>\n",
       "  </thead>\n",
       "  <tbody>\n",
       "    <tr>\n",
       "      <th>Title</th>\n",
       "      <td>Capt</td>\n",
       "      <td>Col</td>\n",
       "      <td>Countess</td>\n",
       "      <td>Don</td>\n",
       "      <td>Dr</td>\n",
       "      <td>Jonkheer</td>\n",
       "      <td>Lady</td>\n",
       "      <td>Major</td>\n",
       "      <td>Master</td>\n",
       "      <td>Miss</td>\n",
       "      <td>Mlle</td>\n",
       "      <td>Mme</td>\n",
       "      <td>Mr</td>\n",
       "      <td>Mrs</td>\n",
       "      <td>Ms</td>\n",
       "      <td>Rev</td>\n",
       "      <td>Sir</td>\n",
       "    </tr>\n",
       "    <tr>\n",
       "      <th>Survived</th>\n",
       "      <td>0.0</td>\n",
       "      <td>0.5</td>\n",
       "      <td>1.0</td>\n",
       "      <td>0.0</td>\n",
       "      <td>0.428571</td>\n",
       "      <td>0.0</td>\n",
       "      <td>1.0</td>\n",
       "      <td>0.5</td>\n",
       "      <td>0.575</td>\n",
       "      <td>0.697802</td>\n",
       "      <td>1.0</td>\n",
       "      <td>1.0</td>\n",
       "      <td>0.156673</td>\n",
       "      <td>0.792</td>\n",
       "      <td>1.0</td>\n",
       "      <td>0.0</td>\n",
       "      <td>1.0</td>\n",
       "    </tr>\n",
       "  </tbody>\n",
       "</table>\n",
       "</div>"
      ],
      "text/plain": [
       "            0    1         2    3         4         5     6      7       8   \\\n",
       "Title     Capt  Col  Countess  Don        Dr  Jonkheer  Lady  Major  Master   \n",
       "Survived   0.0  0.5       1.0  0.0  0.428571       0.0   1.0    0.5   0.575   \n",
       "\n",
       "                9     10   11        12     13   14   15   16  \n",
       "Title         Miss  Mlle  Mme        Mr    Mrs   Ms  Rev  Sir  \n",
       "Survived  0.697802   1.0  1.0  0.156673  0.792  1.0  0.0  1.0  "
      ]
     },
     "execution_count": 21,
     "metadata": {},
     "output_type": "execute_result"
    }
   ],
   "source": [
    "x[['Title', 'Survived']].groupby(['Title'], as_index=False).mean().T"
   ]
  },
  {
   "cell_type": "markdown",
   "id": "7b432c7a",
   "metadata": {
    "papermill": {
     "duration": 0.081329,
     "end_time": "2021-07-29T20:43:15.447810",
     "exception": false,
     "start_time": "2021-07-29T20:43:15.366481",
     "status": "completed"
    },
    "tags": []
   },
   "source": [
    "**as stated fro the previouse analysis of the data most of the females titles survived and the new insight i got is that the captain of the ship didnt survive and half the kids on the ship survived**"
   ]
  },
  {
   "cell_type": "markdown",
   "id": "30ef9632",
   "metadata": {
    "papermill": {
     "duration": 0.080472,
     "end_time": "2021-07-29T20:43:15.609523",
     "exception": false,
     "start_time": "2021-07-29T20:43:15.529051",
     "status": "completed"
    },
    "tags": []
   },
   "source": [
    "# splitting labels from features and dropping the nae column after getting the new feature and got good insights from it"
   ]
  },
  {
   "cell_type": "code",
   "execution_count": 22,
   "id": "d2cfd9cf",
   "metadata": {
    "execution": {
     "iopub.execute_input": "2021-07-29T20:43:15.780140Z",
     "iopub.status.busy": "2021-07-29T20:43:15.779365Z",
     "iopub.status.idle": "2021-07-29T20:43:15.782339Z",
     "shell.execute_reply": "2021-07-29T20:43:15.781798Z",
     "shell.execute_reply.started": "2021-07-29T20:39:06.519795Z"
    },
    "papermill": {
     "duration": 0.092138,
     "end_time": "2021-07-29T20:43:15.782489",
     "exception": false,
     "start_time": "2021-07-29T20:43:15.690351",
     "status": "completed"
    },
    "tags": []
   },
   "outputs": [],
   "source": [
    "y=x.Survived\n",
    "x=x.drop(['Survived','Name'],axis=1)\n",
    "x_test=x_test.drop(['Name'],axis=1)"
   ]
  },
  {
   "cell_type": "markdown",
   "id": "3bffbd37",
   "metadata": {
    "papermill": {
     "duration": 0.081587,
     "end_time": "2021-07-29T20:43:15.946194",
     "exception": false,
     "start_time": "2021-07-29T20:43:15.864607",
     "status": "completed"
    },
    "tags": []
   },
   "source": [
    "**Plotting Percent of missing values in columns**"
   ]
  },
  {
   "cell_type": "code",
   "execution_count": 23,
   "id": "a3f6086f",
   "metadata": {
    "execution": {
     "iopub.execute_input": "2021-07-29T20:43:16.123487Z",
     "iopub.status.busy": "2021-07-29T20:43:16.120583Z",
     "iopub.status.idle": "2021-07-29T20:43:16.351164Z",
     "shell.execute_reply": "2021-07-29T20:43:16.350518Z",
     "shell.execute_reply.started": "2021-07-29T20:39:06.530684Z"
    },
    "papermill": {
     "duration": 0.321174,
     "end_time": "2021-07-29T20:43:16.351298",
     "exception": false,
     "start_time": "2021-07-29T20:43:16.030124",
     "status": "completed"
    },
    "tags": []
   },
   "outputs": [
    {
     "name": "stdout",
     "output_type": "stream",
     "text": [
      "Pclass        0\n",
      "Sex           0\n",
      "Age         177\n",
      "SibSp         0\n",
      "Parch         0\n",
      "Ticket        0\n",
      "Fare          0\n",
      "Cabin       687\n",
      "Embarked      2\n",
      "Title         0\n",
      "dtype: int64\n",
      "Cabin       77.104377\n",
      "Age         19.865320\n",
      "Embarked     0.224467\n",
      "Pclass       0.000000\n",
      "Sex          0.000000\n",
      "SibSp        0.000000\n",
      "Parch        0.000000\n",
      "Ticket       0.000000\n",
      "Fare         0.000000\n",
      "Title        0.000000\n",
      "dtype: float64\n"
     ]
    },
    {
     "data": {
      "image/png": "[encoded data removed]",
      "text/plain": [
       "<Figure size 432x288 with 1 Axes>"
      ]
     },
     "metadata": {
      "needs_background": "light"
     },
     "output_type": "display_data"
    }
   ],
   "source": [
    "print(x.isnull().sum())\n",
    "titanic_null_count=x.isnull().sum()*100/len(x)\n",
    "miss_titanic_plot=titanic_null_count.sort_values(ascending=False).plot(kind='barh')\n",
    "print(titanic_null_count.sort_values(ascending=False))"
   ]
  },
  {
   "cell_type": "markdown",
   "id": "9a08e40c",
   "metadata": {
    "papermill": {
     "duration": 0.083978,
     "end_time": "2021-07-29T20:43:16.517988",
     "exception": false,
     "start_time": "2021-07-29T20:43:16.434010",
     "status": "completed"
    },
    "tags": []
   },
   "source": [
    "**Cabin column had 77% of its data missing so i decided to drop it**"
   ]
  },
  {
   "cell_type": "code",
   "execution_count": 24,
   "id": "d3cf72e1",
   "metadata": {
    "execution": {
     "iopub.execute_input": "2021-07-29T20:43:16.691149Z",
     "iopub.status.busy": "2021-07-29T20:43:16.690497Z",
     "iopub.status.idle": "2021-07-29T20:43:16.693627Z",
     "shell.execute_reply": "2021-07-29T20:43:16.693128Z",
     "shell.execute_reply.started": "2021-07-29T20:39:06.775684Z"
    },
    "papermill": {
     "duration": 0.093017,
     "end_time": "2021-07-29T20:43:16.693754",
     "exception": false,
     "start_time": "2021-07-29T20:43:16.600737",
     "status": "completed"
    },
    "tags": []
   },
   "outputs": [],
   "source": [
    "x=x.drop(['Cabin'],axis=1)\n",
    "x_test=x_test.drop(['Cabin'],axis=1)"
   ]
  },
  {
   "cell_type": "markdown",
   "id": "e9b2b1b0",
   "metadata": {
    "papermill": {
     "duration": 0.082279,
     "end_time": "2021-07-29T20:43:16.860329",
     "exception": false,
     "start_time": "2021-07-29T20:43:16.778050",
     "status": "completed"
    },
    "tags": []
   },
   "source": [
    "# handling Object Datatypes Columns"
   ]
  },
  {
   "cell_type": "code",
   "execution_count": 25,
   "id": "d232c764",
   "metadata": {
    "execution": {
     "iopub.execute_input": "2021-07-29T20:43:17.034726Z",
     "iopub.status.busy": "2021-07-29T20:43:17.034101Z",
     "iopub.status.idle": "2021-07-29T20:43:17.037689Z",
     "shell.execute_reply": "2021-07-29T20:43:17.038175Z",
     "shell.execute_reply.started": "2021-07-29T20:39:06.785930Z"
    },
    "papermill": {
     "duration": 0.094278,
     "end_time": "2021-07-29T20:43:17.038329",
     "exception": false,
     "start_time": "2021-07-29T20:43:16.944051",
     "status": "completed"
    },
    "tags": []
   },
   "outputs": [
    {
     "data": {
      "text/plain": [
       "Index(['Sex', 'Ticket', 'Embarked', 'Title'], dtype='object')"
      ]
     },
     "execution_count": 25,
     "metadata": {},
     "output_type": "execute_result"
    }
   ],
   "source": [
    "obj_cols=x.select_dtypes('object').columns\n",
    "obj_cols"
   ]
  },
  {
   "cell_type": "code",
   "execution_count": 26,
   "id": "a64ab723",
   "metadata": {
    "execution": {
     "iopub.execute_input": "2021-07-29T20:43:17.211342Z",
     "iopub.status.busy": "2021-07-29T20:43:17.209752Z",
     "iopub.status.idle": "2021-07-29T20:43:17.215726Z",
     "shell.execute_reply": "2021-07-29T20:43:17.215117Z",
     "shell.execute_reply.started": "2021-07-29T20:39:06.802561Z"
    },
    "papermill": {
     "duration": 0.094464,
     "end_time": "2021-07-29T20:43:17.215859",
     "exception": false,
     "start_time": "2021-07-29T20:43:17.121395",
     "status": "completed"
    },
    "tags": []
   },
   "outputs": [
    {
     "name": "stdout",
     "output_type": "stream",
     "text": [
      "Sex column has 2 unique values\n",
      "Ticket column has 681 unique values\n",
      "Embarked column has 3 unique values\n",
      "Title column has 17 unique values\n"
     ]
    }
   ],
   "source": [
    "for col in obj_cols:\n",
    "    print('{} column has {} unique values'.format(col,x[col].nunique()))"
   ]
  },
  {
   "cell_type": "markdown",
   "id": "263ea8e6",
   "metadata": {
    "papermill": {
     "duration": 0.082884,
     "end_time": "2021-07-29T20:43:17.381873",
     "exception": false,
     "start_time": "2021-07-29T20:43:17.298989",
     "status": "completed"
    },
    "tags": []
   },
   "source": [
    "**the Ticket Column had so much unique values so i decided to drop it to not increase complexity of model after encoding this column**"
   ]
  },
  {
   "cell_type": "code",
   "execution_count": 27,
   "id": "9498906b",
   "metadata": {
    "execution": {
     "iopub.execute_input": "2021-07-29T20:43:17.556133Z",
     "iopub.status.busy": "2021-07-29T20:43:17.555492Z",
     "iopub.status.idle": "2021-07-29T20:43:17.557960Z",
     "shell.execute_reply": "2021-07-29T20:43:17.557365Z",
     "shell.execute_reply.started": "2021-07-29T20:39:06.821691Z"
    },
    "papermill": {
     "duration": 0.092631,
     "end_time": "2021-07-29T20:43:17.558088",
     "exception": false,
     "start_time": "2021-07-29T20:43:17.465457",
     "status": "completed"
    },
    "tags": []
   },
   "outputs": [],
   "source": [
    "x=x.drop(['Ticket'],axis=1)\n",
    "x_test=x_test.drop(['Ticket'],axis=1)"
   ]
  },
  {
   "cell_type": "markdown",
   "id": "722f374c",
   "metadata": {
    "papermill": {
     "duration": 0.082843,
     "end_time": "2021-07-29T20:43:17.724014",
     "exception": false,
     "start_time": "2021-07-29T20:43:17.641171",
     "status": "completed"
    },
    "tags": []
   },
   "source": [
    "**encoding sex feature as it seems an important feature**"
   ]
  },
  {
   "cell_type": "code",
   "execution_count": 28,
   "id": "6d2f098b",
   "metadata": {
    "execution": {
     "iopub.execute_input": "2021-07-29T20:43:17.900129Z",
     "iopub.status.busy": "2021-07-29T20:43:17.899476Z",
     "iopub.status.idle": "2021-07-29T20:43:17.902054Z",
     "shell.execute_reply": "2021-07-29T20:43:17.901436Z",
     "shell.execute_reply.started": "2021-07-29T20:39:06.833557Z"
    },
    "papermill": {
     "duration": 0.093887,
     "end_time": "2021-07-29T20:43:17.902186",
     "exception": false,
     "start_time": "2021-07-29T20:43:17.808299",
     "status": "completed"
    },
    "tags": []
   },
   "outputs": [],
   "source": [
    "x['Sex'] = x.Sex.map({'male':0,'female':1})\n",
    "x_test['Sex'] = x_test.Sex.map({'male':0,'female':1})"
   ]
  },
  {
   "cell_type": "markdown",
   "id": "8ce2d1e0",
   "metadata": {
    "papermill": {
     "duration": 0.0831,
     "end_time": "2021-07-29T20:43:18.069020",
     "exception": false,
     "start_time": "2021-07-29T20:43:17.985920",
     "status": "completed"
    },
    "tags": []
   },
   "source": [
    "**label encoding title column**"
   ]
  },
  {
   "cell_type": "code",
   "execution_count": 29,
   "id": "d1eb0e3b",
   "metadata": {
    "execution": {
     "iopub.execute_input": "2021-07-29T20:43:18.251141Z",
     "iopub.status.busy": "2021-07-29T20:43:18.250170Z",
     "iopub.status.idle": "2021-07-29T20:43:18.254700Z",
     "shell.execute_reply": "2021-07-29T20:43:18.254081Z",
     "shell.execute_reply.started": "2021-07-29T20:39:06.848751Z"
    },
    "papermill": {
     "duration": 0.102875,
     "end_time": "2021-07-29T20:43:18.254835",
     "exception": false,
     "start_time": "2021-07-29T20:43:18.151960",
     "status": "completed"
    },
    "tags": []
   },
   "outputs": [
    {
     "data": {
      "text/html": [
       "<div>\n",
       "<style scoped>\n",
       "    .dataframe tbody tr th:only-of-type {\n",
       "        vertical-align: middle;\n",
       "    }\n",
       "\n",
       "    .dataframe tbody tr th {\n",
       "        vertical-align: top;\n",
       "    }\n",
       "\n",
       "    .dataframe thead th {\n",
       "        text-align: right;\n",
       "    }\n",
       "</style>\n",
       "<table border=\"1\" class=\"dataframe\">\n",
       "  <thead>\n",
       "    <tr style=\"text-align: right;\">\n",
       "      <th></th>\n",
       "      <th>Pclass</th>\n",
       "      <th>Sex</th>\n",
       "      <th>Age</th>\n",
       "      <th>SibSp</th>\n",
       "      <th>Parch</th>\n",
       "      <th>Fare</th>\n",
       "      <th>Embarked</th>\n",
       "      <th>Title</th>\n",
       "    </tr>\n",
       "    <tr>\n",
       "      <th>PassengerId</th>\n",
       "      <th></th>\n",
       "      <th></th>\n",
       "      <th></th>\n",
       "      <th></th>\n",
       "      <th></th>\n",
       "      <th></th>\n",
       "      <th></th>\n",
       "      <th></th>\n",
       "    </tr>\n",
       "  </thead>\n",
       "  <tbody>\n",
       "    <tr>\n",
       "      <th>1</th>\n",
       "      <td>3</td>\n",
       "      <td>0</td>\n",
       "      <td>22.0</td>\n",
       "      <td>1</td>\n",
       "      <td>0</td>\n",
       "      <td>7.2500</td>\n",
       "      <td>S</td>\n",
       "      <td>12</td>\n",
       "    </tr>\n",
       "    <tr>\n",
       "      <th>2</th>\n",
       "      <td>1</td>\n",
       "      <td>1</td>\n",
       "      <td>38.0</td>\n",
       "      <td>1</td>\n",
       "      <td>0</td>\n",
       "      <td>71.2833</td>\n",
       "      <td>C</td>\n",
       "      <td>13</td>\n",
       "    </tr>\n",
       "    <tr>\n",
       "      <th>3</th>\n",
       "      <td>3</td>\n",
       "      <td>1</td>\n",
       "      <td>26.0</td>\n",
       "      <td>0</td>\n",
       "      <td>0</td>\n",
       "      <td>7.9250</td>\n",
       "      <td>S</td>\n",
       "      <td>9</td>\n",
       "    </tr>\n",
       "    <tr>\n",
       "      <th>4</th>\n",
       "      <td>1</td>\n",
       "      <td>1</td>\n",
       "      <td>35.0</td>\n",
       "      <td>1</td>\n",
       "      <td>0</td>\n",
       "      <td>53.1000</td>\n",
       "      <td>S</td>\n",
       "      <td>13</td>\n",
       "    </tr>\n",
       "    <tr>\n",
       "      <th>5</th>\n",
       "      <td>3</td>\n",
       "      <td>0</td>\n",
       "      <td>35.0</td>\n",
       "      <td>0</td>\n",
       "      <td>0</td>\n",
       "      <td>8.0500</td>\n",
       "      <td>S</td>\n",
       "      <td>12</td>\n",
       "    </tr>\n",
       "  </tbody>\n",
       "</table>\n",
       "</div>"
      ],
      "text/plain": [
       "             Pclass  Sex   Age  SibSp  Parch     Fare Embarked  Title\n",
       "PassengerId                                                          \n",
       "1                 3    0  22.0      1      0   7.2500        S     12\n",
       "2                 1    1  38.0      1      0  71.2833        C     13\n",
       "3                 3    1  26.0      0      0   7.9250        S      9\n",
       "4                 1    1  35.0      1      0  53.1000        S     13\n",
       "5                 3    0  35.0      0      0   8.0500        S     12"
      ]
     },
     "execution_count": 29,
     "metadata": {},
     "output_type": "execute_result"
    }
   ],
   "source": [
    "from sklearn.preprocessing import LabelEncoder\n",
    "\n",
    "enc = LabelEncoder()\n",
    "x['Title'] = enc.fit_transform(x['Title'])\n",
    "x_test['Title'] = enc.fit_transform(x_test['Title'])\n",
    "x.head()"
   ]
  },
  {
   "cell_type": "markdown",
   "id": "88619477",
   "metadata": {
    "papermill": {
     "duration": 0.083678,
     "end_time": "2021-07-29T20:43:18.423258",
     "exception": false,
     "start_time": "2021-07-29T20:43:18.339580",
     "status": "completed"
    },
    "tags": []
   },
   "source": [
    "# one hot encoding for Embarked Column"
   ]
  },
  {
   "cell_type": "code",
   "execution_count": 30,
   "id": "f26e4a4a",
   "metadata": {
    "execution": {
     "iopub.execute_input": "2021-07-29T20:43:18.596978Z",
     "iopub.status.busy": "2021-07-29T20:43:18.596328Z",
     "iopub.status.idle": "2021-07-29T20:43:18.599017Z",
     "shell.execute_reply": "2021-07-29T20:43:18.599531Z",
     "shell.execute_reply.started": "2021-07-29T20:39:06.874671Z"
    },
    "papermill": {
     "duration": 0.092627,
     "end_time": "2021-07-29T20:43:18.599697",
     "exception": false,
     "start_time": "2021-07-29T20:43:18.507070",
     "status": "completed"
    },
    "tags": []
   },
   "outputs": [
    {
     "data": {
      "text/plain": [
       "Pclass        int64\n",
       "Sex           int64\n",
       "Age         float64\n",
       "SibSp         int64\n",
       "Parch         int64\n",
       "Fare        float64\n",
       "Embarked     object\n",
       "Title         int64\n",
       "dtype: object"
      ]
     },
     "execution_count": 30,
     "metadata": {},
     "output_type": "execute_result"
    }
   ],
   "source": [
    "x.dtypes"
   ]
  },
  {
   "cell_type": "code",
   "execution_count": 31,
   "id": "b1d5a6c0",
   "metadata": {
    "execution": {
     "iopub.execute_input": "2021-07-29T20:43:18.772599Z",
     "iopub.status.busy": "2021-07-29T20:43:18.771993Z",
     "iopub.status.idle": "2021-07-29T20:43:18.786809Z",
     "shell.execute_reply": "2021-07-29T20:43:18.787339Z",
     "shell.execute_reply.started": "2021-07-29T20:39:06.891744Z"
    },
    "papermill": {
     "duration": 0.103434,
     "end_time": "2021-07-29T20:43:18.787508",
     "exception": false,
     "start_time": "2021-07-29T20:43:18.684074",
     "status": "completed"
    },
    "tags": []
   },
   "outputs": [],
   "source": [
    "x=pd.get_dummies(x)\n",
    "x_test=pd.get_dummies(x_test)"
   ]
  },
  {
   "cell_type": "code",
   "execution_count": 32,
   "id": "ca3084b3",
   "metadata": {
    "execution": {
     "iopub.execute_input": "2021-07-29T20:43:18.959788Z",
     "iopub.status.busy": "2021-07-29T20:43:18.959147Z",
     "iopub.status.idle": "2021-07-29T20:43:18.972662Z",
     "shell.execute_reply": "2021-07-29T20:43:18.973220Z",
     "shell.execute_reply.started": "2021-07-29T20:39:06.917339Z"
    },
    "papermill": {
     "duration": 0.101603,
     "end_time": "2021-07-29T20:43:18.973400",
     "exception": false,
     "start_time": "2021-07-29T20:43:18.871797",
     "status": "completed"
    },
    "tags": []
   },
   "outputs": [
    {
     "data": {
      "text/html": [
       "<div>\n",
       "<style scoped>\n",
       "    .dataframe tbody tr th:only-of-type {\n",
       "        vertical-align: middle;\n",
       "    }\n",
       "\n",
       "    .dataframe tbody tr th {\n",
       "        vertical-align: top;\n",
       "    }\n",
       "\n",
       "    .dataframe thead th {\n",
       "        text-align: right;\n",
       "    }\n",
       "</style>\n",
       "<table border=\"1\" class=\"dataframe\">\n",
       "  <thead>\n",
       "    <tr style=\"text-align: right;\">\n",
       "      <th></th>\n",
       "      <th>Pclass</th>\n",
       "      <th>Sex</th>\n",
       "      <th>Age</th>\n",
       "      <th>SibSp</th>\n",
       "      <th>Parch</th>\n",
       "      <th>Fare</th>\n",
       "      <th>Title</th>\n",
       "      <th>Embarked_C</th>\n",
       "      <th>Embarked_Q</th>\n",
       "      <th>Embarked_S</th>\n",
       "    </tr>\n",
       "    <tr>\n",
       "      <th>PassengerId</th>\n",
       "      <th></th>\n",
       "      <th></th>\n",
       "      <th></th>\n",
       "      <th></th>\n",
       "      <th></th>\n",
       "      <th></th>\n",
       "      <th></th>\n",
       "      <th></th>\n",
       "      <th></th>\n",
       "      <th></th>\n",
       "    </tr>\n",
       "  </thead>\n",
       "  <tbody>\n",
       "    <tr>\n",
       "      <th>1</th>\n",
       "      <td>3</td>\n",
       "      <td>0</td>\n",
       "      <td>22.0</td>\n",
       "      <td>1</td>\n",
       "      <td>0</td>\n",
       "      <td>7.2500</td>\n",
       "      <td>12</td>\n",
       "      <td>0</td>\n",
       "      <td>0</td>\n",
       "      <td>1</td>\n",
       "    </tr>\n",
       "    <tr>\n",
       "      <th>2</th>\n",
       "      <td>1</td>\n",
       "      <td>1</td>\n",
       "      <td>38.0</td>\n",
       "      <td>1</td>\n",
       "      <td>0</td>\n",
       "      <td>71.2833</td>\n",
       "      <td>13</td>\n",
       "      <td>1</td>\n",
       "      <td>0</td>\n",
       "      <td>0</td>\n",
       "    </tr>\n",
       "    <tr>\n",
       "      <th>3</th>\n",
       "      <td>3</td>\n",
       "      <td>1</td>\n",
       "      <td>26.0</td>\n",
       "      <td>0</td>\n",
       "      <td>0</td>\n",
       "      <td>7.9250</td>\n",
       "      <td>9</td>\n",
       "      <td>0</td>\n",
       "      <td>0</td>\n",
       "      <td>1</td>\n",
       "    </tr>\n",
       "    <tr>\n",
       "      <th>4</th>\n",
       "      <td>1</td>\n",
       "      <td>1</td>\n",
       "      <td>35.0</td>\n",
       "      <td>1</td>\n",
       "      <td>0</td>\n",
       "      <td>53.1000</td>\n",
       "      <td>13</td>\n",
       "      <td>0</td>\n",
       "      <td>0</td>\n",
       "      <td>1</td>\n",
       "    </tr>\n",
       "    <tr>\n",
       "      <th>5</th>\n",
       "      <td>3</td>\n",
       "      <td>0</td>\n",
       "      <td>35.0</td>\n",
       "      <td>0</td>\n",
       "      <td>0</td>\n",
       "      <td>8.0500</td>\n",
       "      <td>12</td>\n",
       "      <td>0</td>\n",
       "      <td>0</td>\n",
       "      <td>1</td>\n",
       "    </tr>\n",
       "  </tbody>\n",
       "</table>\n",
       "</div>"
      ],
      "text/plain": [
       "             Pclass  Sex   Age  SibSp  Parch     Fare  Title  Embarked_C  \\\n",
       "PassengerId                                                                \n",
       "1                 3    0  22.0      1      0   7.2500     12           0   \n",
       "2                 1    1  38.0      1      0  71.2833     13           1   \n",
       "3                 3    1  26.0      0      0   7.9250      9           0   \n",
       "4                 1    1  35.0      1      0  53.1000     13           0   \n",
       "5                 3    0  35.0      0      0   8.0500     12           0   \n",
       "\n",
       "             Embarked_Q  Embarked_S  \n",
       "PassengerId                          \n",
       "1                     0           1  \n",
       "2                     0           0  \n",
       "3                     0           1  \n",
       "4                     0           1  \n",
       "5                     0           1  "
      ]
     },
     "execution_count": 32,
     "metadata": {},
     "output_type": "execute_result"
    }
   ],
   "source": [
    "x.head()"
   ]
  },
  {
   "cell_type": "code",
   "execution_count": 33,
   "id": "40038538",
   "metadata": {
    "execution": {
     "iopub.execute_input": "2021-07-29T20:43:19.168569Z",
     "iopub.status.busy": "2021-07-29T20:43:19.167605Z",
     "iopub.status.idle": "2021-07-29T20:43:19.184975Z",
     "shell.execute_reply": "2021-07-29T20:43:19.184454Z",
     "shell.execute_reply.started": "2021-07-29T20:39:06.941624Z"
    },
    "papermill": {
     "duration": 0.108057,
     "end_time": "2021-07-29T20:43:19.185127",
     "exception": false,
     "start_time": "2021-07-29T20:43:19.077070",
     "status": "completed"
    },
    "tags": []
   },
   "outputs": [
    {
     "data": {
      "text/html": [
       "<div>\n",
       "<style scoped>\n",
       "    .dataframe tbody tr th:only-of-type {\n",
       "        vertical-align: middle;\n",
       "    }\n",
       "\n",
       "    .dataframe tbody tr th {\n",
       "        vertical-align: top;\n",
       "    }\n",
       "\n",
       "    .dataframe thead th {\n",
       "        text-align: right;\n",
       "    }\n",
       "</style>\n",
       "<table border=\"1\" class=\"dataframe\">\n",
       "  <thead>\n",
       "    <tr style=\"text-align: right;\">\n",
       "      <th></th>\n",
       "      <th>Pclass</th>\n",
       "      <th>Sex</th>\n",
       "      <th>Age</th>\n",
       "      <th>SibSp</th>\n",
       "      <th>Parch</th>\n",
       "      <th>Fare</th>\n",
       "      <th>Title</th>\n",
       "      <th>Embarked_C</th>\n",
       "      <th>Embarked_Q</th>\n",
       "      <th>Embarked_S</th>\n",
       "    </tr>\n",
       "    <tr>\n",
       "      <th>PassengerId</th>\n",
       "      <th></th>\n",
       "      <th></th>\n",
       "      <th></th>\n",
       "      <th></th>\n",
       "      <th></th>\n",
       "      <th></th>\n",
       "      <th></th>\n",
       "      <th></th>\n",
       "      <th></th>\n",
       "      <th></th>\n",
       "    </tr>\n",
       "  </thead>\n",
       "  <tbody>\n",
       "    <tr>\n",
       "      <th>79</th>\n",
       "      <td>2</td>\n",
       "      <td>0</td>\n",
       "      <td>0.83</td>\n",
       "      <td>0</td>\n",
       "      <td>2</td>\n",
       "      <td>29.0000</td>\n",
       "      <td>8</td>\n",
       "      <td>0</td>\n",
       "      <td>0</td>\n",
       "      <td>1</td>\n",
       "    </tr>\n",
       "    <tr>\n",
       "      <th>306</th>\n",
       "      <td>1</td>\n",
       "      <td>0</td>\n",
       "      <td>0.92</td>\n",
       "      <td>1</td>\n",
       "      <td>2</td>\n",
       "      <td>151.5500</td>\n",
       "      <td>8</td>\n",
       "      <td>0</td>\n",
       "      <td>0</td>\n",
       "      <td>1</td>\n",
       "    </tr>\n",
       "    <tr>\n",
       "      <th>470</th>\n",
       "      <td>3</td>\n",
       "      <td>1</td>\n",
       "      <td>0.75</td>\n",
       "      <td>2</td>\n",
       "      <td>1</td>\n",
       "      <td>19.2583</td>\n",
       "      <td>9</td>\n",
       "      <td>1</td>\n",
       "      <td>0</td>\n",
       "      <td>0</td>\n",
       "    </tr>\n",
       "    <tr>\n",
       "      <th>645</th>\n",
       "      <td>3</td>\n",
       "      <td>1</td>\n",
       "      <td>0.75</td>\n",
       "      <td>2</td>\n",
       "      <td>1</td>\n",
       "      <td>19.2583</td>\n",
       "      <td>9</td>\n",
       "      <td>1</td>\n",
       "      <td>0</td>\n",
       "      <td>0</td>\n",
       "    </tr>\n",
       "    <tr>\n",
       "      <th>756</th>\n",
       "      <td>2</td>\n",
       "      <td>0</td>\n",
       "      <td>0.67</td>\n",
       "      <td>1</td>\n",
       "      <td>1</td>\n",
       "      <td>14.5000</td>\n",
       "      <td>8</td>\n",
       "      <td>0</td>\n",
       "      <td>0</td>\n",
       "      <td>1</td>\n",
       "    </tr>\n",
       "    <tr>\n",
       "      <th>804</th>\n",
       "      <td>3</td>\n",
       "      <td>0</td>\n",
       "      <td>0.42</td>\n",
       "      <td>0</td>\n",
       "      <td>1</td>\n",
       "      <td>8.5167</td>\n",
       "      <td>8</td>\n",
       "      <td>1</td>\n",
       "      <td>0</td>\n",
       "      <td>0</td>\n",
       "    </tr>\n",
       "    <tr>\n",
       "      <th>832</th>\n",
       "      <td>2</td>\n",
       "      <td>0</td>\n",
       "      <td>0.83</td>\n",
       "      <td>1</td>\n",
       "      <td>1</td>\n",
       "      <td>18.7500</td>\n",
       "      <td>8</td>\n",
       "      <td>0</td>\n",
       "      <td>0</td>\n",
       "      <td>1</td>\n",
       "    </tr>\n",
       "  </tbody>\n",
       "</table>\n",
       "</div>"
      ],
      "text/plain": [
       "             Pclass  Sex   Age  SibSp  Parch      Fare  Title  Embarked_C  \\\n",
       "PassengerId                                                                 \n",
       "79                2    0  0.83      0      2   29.0000      8           0   \n",
       "306               1    0  0.92      1      2  151.5500      8           0   \n",
       "470               3    1  0.75      2      1   19.2583      9           1   \n",
       "645               3    1  0.75      2      1   19.2583      9           1   \n",
       "756               2    0  0.67      1      1   14.5000      8           0   \n",
       "804               3    0  0.42      0      1    8.5167      8           1   \n",
       "832               2    0  0.83      1      1   18.7500      8           0   \n",
       "\n",
       "             Embarked_Q  Embarked_S  \n",
       "PassengerId                          \n",
       "79                    0           1  \n",
       "306                   0           1  \n",
       "470                   0           0  \n",
       "645                   0           0  \n",
       "756                   0           1  \n",
       "804                   0           0  \n",
       "832                   0           1  "
      ]
     },
     "execution_count": 33,
     "metadata": {},
     "output_type": "execute_result"
    }
   ],
   "source": [
    "x[x.Age<1]"
   ]
  },
  {
   "cell_type": "code",
   "execution_count": 34,
   "id": "4bf3c59a",
   "metadata": {
    "execution": {
     "iopub.execute_input": "2021-07-29T20:43:19.363284Z",
     "iopub.status.busy": "2021-07-29T20:43:19.362597Z",
     "iopub.status.idle": "2021-07-29T20:43:19.365139Z",
     "shell.execute_reply": "2021-07-29T20:43:19.365612Z",
     "shell.execute_reply.started": "2021-07-29T20:39:06.966982Z"
    },
    "papermill": {
     "duration": 0.095667,
     "end_time": "2021-07-29T20:43:19.365767",
     "exception": false,
     "start_time": "2021-07-29T20:43:19.270100",
     "status": "completed"
    },
    "tags": []
   },
   "outputs": [
    {
     "data": {
      "text/plain": [
       "Pclass          0\n",
       "Sex             0\n",
       "Age           177\n",
       "SibSp           0\n",
       "Parch           0\n",
       "Fare            0\n",
       "Title           0\n",
       "Embarked_C      0\n",
       "Embarked_Q      0\n",
       "Embarked_S      0\n",
       "dtype: int64"
      ]
     },
     "execution_count": 34,
     "metadata": {},
     "output_type": "execute_result"
    }
   ],
   "source": [
    "x.isnull().sum()"
   ]
  },
  {
   "cell_type": "markdown",
   "id": "c5ce8d5e",
   "metadata": {
    "papermill": {
     "duration": 0.084913,
     "end_time": "2021-07-29T20:43:19.536219",
     "exception": false,
     "start_time": "2021-07-29T20:43:19.451306",
     "status": "completed"
    },
    "tags": []
   },
   "source": [
    "**See histogram of age to ceck for outliers and distribution of age**"
   ]
  },
  {
   "cell_type": "code",
   "execution_count": 35,
   "id": "cd313b7f",
   "metadata": {
    "execution": {
     "iopub.execute_input": "2021-07-29T20:43:19.710599Z",
     "iopub.status.busy": "2021-07-29T20:43:19.709958Z",
     "iopub.status.idle": "2021-07-29T20:43:20.074233Z",
     "shell.execute_reply": "2021-07-29T20:43:20.073606Z",
     "shell.execute_reply.started": "2021-07-29T20:39:06.982880Z"
    },
    "papermill": {
     "duration": 0.452388,
     "end_time": "2021-07-29T20:43:20.074365",
     "exception": false,
     "start_time": "2021-07-29T20:43:19.621977",
     "status": "completed"
    },
    "tags": []
   },
   "outputs": [
    {
     "data": {
      "text/plain": [
       "<AxesSubplot:>"
      ]
     },
     "execution_count": 35,
     "metadata": {},
     "output_type": "execute_result"
    },
    {
     "data": {
      "image/png": "[encoded data removed]",
      "text/plain": [
       "<Figure size 432x288 with 1 Axes>"
      ]
     },
     "metadata": {
      "needs_background": "light"
     },
     "output_type": "display_data"
    }
   ],
   "source": [
    "x['Age'].hist()"
   ]
  },
  {
   "cell_type": "code",
   "execution_count": 36,
   "id": "a64f06c7",
   "metadata": {
    "execution": {
     "iopub.execute_input": "2021-07-29T20:43:20.255187Z",
     "iopub.status.busy": "2021-07-29T20:43:20.254432Z",
     "iopub.status.idle": "2021-07-29T20:43:20.258116Z",
     "shell.execute_reply": "2021-07-29T20:43:20.257477Z",
     "shell.execute_reply.started": "2021-07-29T20:39:07.211546Z"
    },
    "papermill": {
     "duration": 0.096593,
     "end_time": "2021-07-29T20:43:20.258262",
     "exception": false,
     "start_time": "2021-07-29T20:43:20.161669",
     "status": "completed"
    },
    "tags": []
   },
   "outputs": [
    {
     "name": "stdout",
     "output_type": "stream",
     "text": [
      "29.69911764705882\n",
      "28.0\n"
     ]
    }
   ],
   "source": [
    "print(x.Age.mean())\n",
    "print(x.Age.median())"
   ]
  },
  {
   "cell_type": "code",
   "execution_count": 37,
   "id": "ee01ff7f",
   "metadata": {
    "execution": {
     "iopub.execute_input": "2021-07-29T20:43:20.441282Z",
     "iopub.status.busy": "2021-07-29T20:43:20.440569Z",
     "iopub.status.idle": "2021-07-29T20:43:20.452793Z",
     "shell.execute_reply": "2021-07-29T20:43:20.452111Z",
     "shell.execute_reply.started": "2021-07-29T20:39:07.219994Z"
    },
    "papermill": {
     "duration": 0.107446,
     "end_time": "2021-07-29T20:43:20.452947",
     "exception": false,
     "start_time": "2021-07-29T20:43:20.345501",
     "status": "completed"
    },
    "tags": []
   },
   "outputs": [],
   "source": [
    "imputer=SimpleImputer(strategy='median')\n",
    "x_imputed = pd.DataFrame(imputer.fit_transform(x))\n",
    "x_imputed.columns = x.columns\n",
    "imputer=SimpleImputer(strategy='median')\n",
    "x_test_imputed = pd.DataFrame(imputer.fit_transform(x_test))\n",
    "x_test_imputed.columns = x_test.columns"
   ]
  },
  {
   "cell_type": "markdown",
   "id": "bfe52019",
   "metadata": {
    "papermill": {
     "duration": 0.087479,
     "end_time": "2021-07-29T20:43:20.628356",
     "exception": false,
     "start_time": "2021-07-29T20:43:20.540877",
     "status": "completed"
    },
    "tags": []
   },
   "source": [
    "**creating a new feature is FamilySize that indicate the size of the family of passenger on ship if he has and 0 if he is alone after that creating the feature is alone from it to indicat if the passenger has no siblings or children on the ship and he is single**"
   ]
  },
  {
   "cell_type": "code",
   "execution_count": 38,
   "id": "b654d5f9",
   "metadata": {
    "execution": {
     "iopub.execute_input": "2021-07-29T20:43:20.815542Z",
     "iopub.status.busy": "2021-07-29T20:43:20.814866Z",
     "iopub.status.idle": "2021-07-29T20:43:20.817955Z",
     "shell.execute_reply": "2021-07-29T20:43:20.817319Z",
     "shell.execute_reply.started": "2021-07-29T20:39:07.250116Z"
    },
    "papermill": {
     "duration": 0.102317,
     "end_time": "2021-07-29T20:43:20.818093",
     "exception": false,
     "start_time": "2021-07-29T20:43:20.715776",
     "status": "completed"
    },
    "tags": []
   },
   "outputs": [],
   "source": [
    "x_imputed['FamilySize'] = x_imputed['SibSp'] + x_imputed['Parch'] + 1\n",
    "x_imputed['IsAlone'] = 0\n",
    "x_imputed.loc[x_imputed['FamilySize'] == 1, 'IsAlone'] = 1\n",
    "\n",
    "x_test_imputed['FamilySize'] = x_test_imputed['SibSp'] + x_test_imputed['Parch'] + 1\n",
    "x_test_imputed['IsAlone'] = 0\n",
    "x_test_imputed.loc[x_test_imputed['FamilySize'] == 1, 'IsAlone'] = 1\n"
   ]
  },
  {
   "cell_type": "markdown",
   "id": "32610b64",
   "metadata": {
    "papermill": {
     "duration": 0.086881,
     "end_time": "2021-07-29T20:43:20.992118",
     "exception": false,
     "start_time": "2021-07-29T20:43:20.905237",
     "status": "completed"
    },
    "tags": []
   },
   "source": [
    "**Dropping redundant features**"
   ]
  },
  {
   "cell_type": "code",
   "execution_count": 39,
   "id": "b30724b4",
   "metadata": {
    "execution": {
     "iopub.execute_input": "2021-07-29T20:43:21.172289Z",
     "iopub.status.busy": "2021-07-29T20:43:21.171255Z",
     "iopub.status.idle": "2021-07-29T20:43:21.175556Z",
     "shell.execute_reply": "2021-07-29T20:43:21.176103Z",
     "shell.execute_reply.started": "2021-07-29T20:39:07.266208Z"
    },
    "papermill": {
     "duration": 0.09714,
     "end_time": "2021-07-29T20:43:21.176273",
     "exception": false,
     "start_time": "2021-07-29T20:43:21.079133",
     "status": "completed"
    },
    "tags": []
   },
   "outputs": [],
   "source": [
    "x_imputed=x_imputed.drop(['SibSp','Parch'],axis=1)\n",
    "x_test_imputed=x_test_imputed.drop(['SibSp','Parch'],axis=1)"
   ]
  },
  {
   "cell_type": "code",
   "execution_count": 40,
   "id": "1b4c71ab",
   "metadata": {
    "execution": {
     "iopub.execute_input": "2021-07-29T20:43:21.368336Z",
     "iopub.status.busy": "2021-07-29T20:43:21.366815Z",
     "iopub.status.idle": "2021-07-29T20:43:21.372770Z",
     "shell.execute_reply": "2021-07-29T20:43:21.372281Z",
     "shell.execute_reply.started": "2021-07-29T20:39:07.283597Z"
    },
    "papermill": {
     "duration": 0.109257,
     "end_time": "2021-07-29T20:43:21.372922",
     "exception": false,
     "start_time": "2021-07-29T20:43:21.263665",
     "status": "completed"
    },
    "tags": []
   },
   "outputs": [
    {
     "data": {
      "text/html": [
       "<div>\n",
       "<style scoped>\n",
       "    .dataframe tbody tr th:only-of-type {\n",
       "        vertical-align: middle;\n",
       "    }\n",
       "\n",
       "    .dataframe tbody tr th {\n",
       "        vertical-align: top;\n",
       "    }\n",
       "\n",
       "    .dataframe thead th {\n",
       "        text-align: right;\n",
       "    }\n",
       "</style>\n",
       "<table border=\"1\" class=\"dataframe\">\n",
       "  <thead>\n",
       "    <tr style=\"text-align: right;\">\n",
       "      <th></th>\n",
       "      <th>Pclass</th>\n",
       "      <th>Sex</th>\n",
       "      <th>Age</th>\n",
       "      <th>Fare</th>\n",
       "      <th>Title</th>\n",
       "      <th>Embarked_C</th>\n",
       "      <th>Embarked_Q</th>\n",
       "      <th>Embarked_S</th>\n",
       "      <th>FamilySize</th>\n",
       "      <th>IsAlone</th>\n",
       "    </tr>\n",
       "  </thead>\n",
       "  <tbody>\n",
       "    <tr>\n",
       "      <th>0</th>\n",
       "      <td>3.0</td>\n",
       "      <td>0.0</td>\n",
       "      <td>22.0</td>\n",
       "      <td>7.2500</td>\n",
       "      <td>12.0</td>\n",
       "      <td>0.0</td>\n",
       "      <td>0.0</td>\n",
       "      <td>1.0</td>\n",
       "      <td>2.0</td>\n",
       "      <td>0</td>\n",
       "    </tr>\n",
       "    <tr>\n",
       "      <th>1</th>\n",
       "      <td>1.0</td>\n",
       "      <td>1.0</td>\n",
       "      <td>38.0</td>\n",
       "      <td>71.2833</td>\n",
       "      <td>13.0</td>\n",
       "      <td>1.0</td>\n",
       "      <td>0.0</td>\n",
       "      <td>0.0</td>\n",
       "      <td>2.0</td>\n",
       "      <td>0</td>\n",
       "    </tr>\n",
       "    <tr>\n",
       "      <th>2</th>\n",
       "      <td>3.0</td>\n",
       "      <td>1.0</td>\n",
       "      <td>26.0</td>\n",
       "      <td>7.9250</td>\n",
       "      <td>9.0</td>\n",
       "      <td>0.0</td>\n",
       "      <td>0.0</td>\n",
       "      <td>1.0</td>\n",
       "      <td>1.0</td>\n",
       "      <td>1</td>\n",
       "    </tr>\n",
       "    <tr>\n",
       "      <th>3</th>\n",
       "      <td>1.0</td>\n",
       "      <td>1.0</td>\n",
       "      <td>35.0</td>\n",
       "      <td>53.1000</td>\n",
       "      <td>13.0</td>\n",
       "      <td>0.0</td>\n",
       "      <td>0.0</td>\n",
       "      <td>1.0</td>\n",
       "      <td>2.0</td>\n",
       "      <td>0</td>\n",
       "    </tr>\n",
       "    <tr>\n",
       "      <th>4</th>\n",
       "      <td>3.0</td>\n",
       "      <td>0.0</td>\n",
       "      <td>35.0</td>\n",
       "      <td>8.0500</td>\n",
       "      <td>12.0</td>\n",
       "      <td>0.0</td>\n",
       "      <td>0.0</td>\n",
       "      <td>1.0</td>\n",
       "      <td>1.0</td>\n",
       "      <td>1</td>\n",
       "    </tr>\n",
       "  </tbody>\n",
       "</table>\n",
       "</div>"
      ],
      "text/plain": [
       "   Pclass  Sex   Age     Fare  Title  Embarked_C  Embarked_Q  Embarked_S  \\\n",
       "0     3.0  0.0  22.0   7.2500   12.0         0.0         0.0         1.0   \n",
       "1     1.0  1.0  38.0  71.2833   13.0         1.0         0.0         0.0   \n",
       "2     3.0  1.0  26.0   7.9250    9.0         0.0         0.0         1.0   \n",
       "3     1.0  1.0  35.0  53.1000   13.0         0.0         0.0         1.0   \n",
       "4     3.0  0.0  35.0   8.0500   12.0         0.0         0.0         1.0   \n",
       "\n",
       "   FamilySize  IsAlone  \n",
       "0         2.0        0  \n",
       "1         2.0        0  \n",
       "2         1.0        1  \n",
       "3         2.0        0  \n",
       "4         1.0        1  "
      ]
     },
     "execution_count": 40,
     "metadata": {},
     "output_type": "execute_result"
    }
   ],
   "source": [
    "x_imputed.head()"
   ]
  },
  {
   "cell_type": "markdown",
   "id": "76d0a7c3",
   "metadata": {
    "papermill": {
     "duration": 0.086617,
     "end_time": "2021-07-29T20:43:21.547869",
     "exception": false,
     "start_time": "2021-07-29T20:43:21.461252",
     "status": "completed"
    },
    "tags": []
   },
   "source": [
    "# Standardization"
   ]
  },
  {
   "cell_type": "code",
   "execution_count": 41,
   "id": "75673f98",
   "metadata": {
    "execution": {
     "iopub.execute_input": "2021-07-29T20:43:21.731500Z",
     "iopub.status.busy": "2021-07-29T20:43:21.730862Z",
     "iopub.status.idle": "2021-07-29T20:43:21.739668Z",
     "shell.execute_reply": "2021-07-29T20:43:21.740117Z",
     "shell.execute_reply.started": "2021-07-29T20:39:07.315222Z"
    },
    "papermill": {
     "duration": 0.104657,
     "end_time": "2021-07-29T20:43:21.740289",
     "exception": false,
     "start_time": "2021-07-29T20:43:21.635632",
     "status": "completed"
    },
    "tags": []
   },
   "outputs": [],
   "source": [
    "scaler=StandardScaler()\n",
    "x_imputed_cols=x_imputed.columns\n",
    "x_test_imputed_cols=x_test_imputed.columns\n",
    "x_imputed=pd.DataFrame(scaler.fit_transform(x_imputed.astype(float)),columns=x_imputed_cols)\n",
    "x_imputed.index=x.index\n",
    "\n",
    "x_test_imputed=pd.DataFrame(scaler.fit_transform(x_test_imputed.astype(float)),columns=x_test_imputed_cols)\n",
    "x_test_imputed.index=x_test.index"
   ]
  },
  {
   "cell_type": "code",
   "execution_count": 42,
   "id": "db7eef11",
   "metadata": {
    "execution": {
     "iopub.execute_input": "2021-07-29T20:43:21.920335Z",
     "iopub.status.busy": "2021-07-29T20:43:21.919701Z",
     "iopub.status.idle": "2021-07-29T20:43:21.934488Z",
     "shell.execute_reply": "2021-07-29T20:43:21.934989Z",
     "shell.execute_reply.started": "2021-07-29T20:39:07.335684Z"
    },
    "papermill": {
     "duration": 0.105716,
     "end_time": "2021-07-29T20:43:21.935154",
     "exception": false,
     "start_time": "2021-07-29T20:43:21.829438",
     "status": "completed"
    },
    "tags": []
   },
   "outputs": [
    {
     "data": {
      "text/html": [
       "<div>\n",
       "<style scoped>\n",
       "    .dataframe tbody tr th:only-of-type {\n",
       "        vertical-align: middle;\n",
       "    }\n",
       "\n",
       "    .dataframe tbody tr th {\n",
       "        vertical-align: top;\n",
       "    }\n",
       "\n",
       "    .dataframe thead th {\n",
       "        text-align: right;\n",
       "    }\n",
       "</style>\n",
       "<table border=\"1\" class=\"dataframe\">\n",
       "  <thead>\n",
       "    <tr style=\"text-align: right;\">\n",
       "      <th></th>\n",
       "      <th>Pclass</th>\n",
       "      <th>Sex</th>\n",
       "      <th>Age</th>\n",
       "      <th>Fare</th>\n",
       "      <th>Title</th>\n",
       "      <th>Embarked_C</th>\n",
       "      <th>Embarked_Q</th>\n",
       "      <th>Embarked_S</th>\n",
       "      <th>FamilySize</th>\n",
       "      <th>IsAlone</th>\n",
       "    </tr>\n",
       "    <tr>\n",
       "      <th>PassengerId</th>\n",
       "      <th></th>\n",
       "      <th></th>\n",
       "      <th></th>\n",
       "      <th></th>\n",
       "      <th></th>\n",
       "      <th></th>\n",
       "      <th></th>\n",
       "      <th></th>\n",
       "      <th></th>\n",
       "      <th></th>\n",
       "    </tr>\n",
       "  </thead>\n",
       "  <tbody>\n",
       "    <tr>\n",
       "      <th>1</th>\n",
       "      <td>0.827377</td>\n",
       "      <td>-0.737695</td>\n",
       "      <td>-0.565736</td>\n",
       "      <td>-0.502445</td>\n",
       "      <td>0.417887</td>\n",
       "      <td>-0.482043</td>\n",
       "      <td>-0.307562</td>\n",
       "      <td>0.619306</td>\n",
       "      <td>0.059160</td>\n",
       "      <td>-1.231645</td>\n",
       "    </tr>\n",
       "    <tr>\n",
       "      <th>2</th>\n",
       "      <td>-1.566107</td>\n",
       "      <td>1.355574</td>\n",
       "      <td>0.663861</td>\n",
       "      <td>0.786845</td>\n",
       "      <td>0.954397</td>\n",
       "      <td>2.074505</td>\n",
       "      <td>-0.307562</td>\n",
       "      <td>-1.614710</td>\n",
       "      <td>0.059160</td>\n",
       "      <td>-1.231645</td>\n",
       "    </tr>\n",
       "    <tr>\n",
       "      <th>3</th>\n",
       "      <td>0.827377</td>\n",
       "      <td>1.355574</td>\n",
       "      <td>-0.258337</td>\n",
       "      <td>-0.488854</td>\n",
       "      <td>-1.191641</td>\n",
       "      <td>-0.482043</td>\n",
       "      <td>-0.307562</td>\n",
       "      <td>0.619306</td>\n",
       "      <td>-0.560975</td>\n",
       "      <td>0.811922</td>\n",
       "    </tr>\n",
       "    <tr>\n",
       "      <th>4</th>\n",
       "      <td>-1.566107</td>\n",
       "      <td>1.355574</td>\n",
       "      <td>0.433312</td>\n",
       "      <td>0.420730</td>\n",
       "      <td>0.954397</td>\n",
       "      <td>-0.482043</td>\n",
       "      <td>-0.307562</td>\n",
       "      <td>0.619306</td>\n",
       "      <td>0.059160</td>\n",
       "      <td>-1.231645</td>\n",
       "    </tr>\n",
       "    <tr>\n",
       "      <th>5</th>\n",
       "      <td>0.827377</td>\n",
       "      <td>-0.737695</td>\n",
       "      <td>0.433312</td>\n",
       "      <td>-0.486337</td>\n",
       "      <td>0.417887</td>\n",
       "      <td>-0.482043</td>\n",
       "      <td>-0.307562</td>\n",
       "      <td>0.619306</td>\n",
       "      <td>-0.560975</td>\n",
       "      <td>0.811922</td>\n",
       "    </tr>\n",
       "  </tbody>\n",
       "</table>\n",
       "</div>"
      ],
      "text/plain": [
       "               Pclass       Sex       Age      Fare     Title  Embarked_C  \\\n",
       "PassengerId                                                                 \n",
       "1            0.827377 -0.737695 -0.565736 -0.502445  0.417887   -0.482043   \n",
       "2           -1.566107  1.355574  0.663861  0.786845  0.954397    2.074505   \n",
       "3            0.827377  1.355574 -0.258337 -0.488854 -1.191641   -0.482043   \n",
       "4           -1.566107  1.355574  0.433312  0.420730  0.954397   -0.482043   \n",
       "5            0.827377 -0.737695  0.433312 -0.486337  0.417887   -0.482043   \n",
       "\n",
       "             Embarked_Q  Embarked_S  FamilySize   IsAlone  \n",
       "PassengerId                                                \n",
       "1             -0.307562    0.619306    0.059160 -1.231645  \n",
       "2             -0.307562   -1.614710    0.059160 -1.231645  \n",
       "3             -0.307562    0.619306   -0.560975  0.811922  \n",
       "4             -0.307562    0.619306    0.059160 -1.231645  \n",
       "5             -0.307562    0.619306   -0.560975  0.811922  "
      ]
     },
     "execution_count": 42,
     "metadata": {},
     "output_type": "execute_result"
    }
   ],
   "source": [
    "x_imputed.head()"
   ]
  },
  {
   "cell_type": "markdown",
   "id": "a2b84b79",
   "metadata": {
    "papermill": {
     "duration": 0.087675,
     "end_time": "2021-07-29T20:43:22.112301",
     "exception": false,
     "start_time": "2021-07-29T20:43:22.024626",
     "status": "completed"
    },
    "tags": []
   },
   "source": [
    "# Splitting Data into tran and validate with ratio 80:20"
   ]
  },
  {
   "cell_type": "code",
   "execution_count": 43,
   "id": "b37e444c",
   "metadata": {
    "execution": {
     "iopub.execute_input": "2021-07-29T20:43:22.337421Z",
     "iopub.status.busy": "2021-07-29T20:43:22.336758Z",
     "iopub.status.idle": "2021-07-29T20:43:22.343283Z",
     "shell.execute_reply": "2021-07-29T20:43:22.343765Z",
     "shell.execute_reply.started": "2021-07-29T20:39:07.359251Z"
    },
    "papermill": {
     "duration": 0.09707,
     "end_time": "2021-07-29T20:43:22.343956",
     "exception": false,
     "start_time": "2021-07-29T20:43:22.246886",
     "status": "completed"
    },
    "tags": []
   },
   "outputs": [],
   "source": [
    "x_train,x_validate,y_train,y_validate=train_test_split(x_imputed,y,test_size=0.2,shuffle=True,random_state=42,stratify=y)"
   ]
  },
  {
   "cell_type": "markdown",
   "id": "2a8046a5",
   "metadata": {
    "papermill": {
     "duration": 0.087951,
     "end_time": "2021-07-29T20:43:22.521899",
     "exception": false,
     "start_time": "2021-07-29T20:43:22.433948",
     "status": "completed"
    },
    "tags": []
   },
   "source": [
    "# Trying different models using gridsearchCV and chosing the top one to tune its parameters"
   ]
  },
  {
   "cell_type": "code",
   "execution_count": 44,
   "id": "dde03072",
   "metadata": {
    "execution": {
     "iopub.execute_input": "2021-07-29T20:43:22.704035Z",
     "iopub.status.busy": "2021-07-29T20:43:22.703328Z",
     "iopub.status.idle": "2021-07-29T20:43:26.086405Z",
     "shell.execute_reply": "2021-07-29T20:43:26.087121Z",
     "shell.execute_reply.started": "2021-07-29T20:39:07.369459Z"
    },
    "papermill": {
     "duration": 3.475528,
     "end_time": "2021-07-29T20:43:26.087333",
     "exception": false,
     "start_time": "2021-07-29T20:43:22.611805",
     "status": "completed"
    },
    "tags": []
   },
   "outputs": [
    {
     "name": "stdout",
     "output_type": "stream",
     "text": [
      "Fitting 5 folds for each of 1 candidates, totalling 5 fits\n"
     ]
    },
    {
     "name": "stderr",
     "output_type": "stream",
     "text": [
      "[Parallel(n_jobs=-1)]: Using backend LokyBackend with 4 concurrent workers.\n",
      "[Parallel(n_jobs=-1)]: Done   2 out of   5 | elapsed:    2.2s remaining:    3.3s\n",
      "[Parallel(n_jobs=-1)]: Done   5 out of   5 | elapsed:    2.3s finished\n",
      "[Parallel(n_jobs=-1)]: Using backend LokyBackend with 4 concurrent workers.\n",
      "[Parallel(n_jobs=-1)]: Done   2 out of   5 | elapsed:    0.1s remaining:    0.1s\n",
      "[Parallel(n_jobs=-1)]: Done   5 out of   5 | elapsed:    0.1s finished\n",
      "[Parallel(n_jobs=-1)]: Using backend LokyBackend with 4 concurrent workers.\n"
     ]
    },
    {
     "name": "stdout",
     "output_type": "stream",
     "text": [
      "LogisticRegression() \n",
      " 0.7978233034571064 \n",
      " 2\n",
      "Fitting 5 folds for each of 1 candidates, totalling 5 fits\n",
      "DecisionTreeClassifier() \n",
      " 0.7543090712104796 \n",
      " 0\n",
      "Fitting 5 folds for each of 1 candidates, totalling 5 fits\n"
     ]
    },
    {
     "name": "stderr",
     "output_type": "stream",
     "text": [
      "[Parallel(n_jobs=-1)]: Done   2 out of   5 | elapsed:    0.4s remaining:    0.6s\n",
      "[Parallel(n_jobs=-1)]: Done   5 out of   5 | elapsed:    0.6s finished\n"
     ]
    },
    {
     "name": "stdout",
     "output_type": "stream",
     "text": [
      "RandomForestClassifier() \n",
      " 0.7937161430119176 \n",
      " 1\n",
      "Fitting 5 folds for each of 1 candidates, totalling 5 fits\n",
      "SVC() \n",
      " 0.8216290751502019 \n",
      " 0\n"
     ]
    },
    {
     "name": "stderr",
     "output_type": "stream",
     "text": [
      "[Parallel(n_jobs=-1)]: Using backend LokyBackend with 4 concurrent workers.\n",
      "[Parallel(n_jobs=-1)]: Done   2 out of   5 | elapsed:    0.0s remaining:    0.1s\n",
      "[Parallel(n_jobs=-1)]: Done   5 out of   5 | elapsed:    0.1s finished\n"
     ]
    }
   ],
   "source": [
    "logreg=LogisticRegression()\n",
    "dt=DecisionTreeClassifier()\n",
    "rf=RandomForestClassifier()\n",
    "svm=SVC()\n",
    "class_list=[logreg, dt,rf,svm]\n",
    "for model in class_list:\n",
    "        start = time.time()\n",
    "        grid = GridSearchCV(estimator=model, param_grid={}, scoring='accuracy', cv=5, n_jobs=-1,verbose=3)\n",
    "        grid.fit(x_train, y_train)\n",
    "        end = time.time()\n",
    "        print(model, '\\n', grid.best_score_,'\\n', round(end-start))"
   ]
  },
  {
   "cell_type": "markdown",
   "id": "0c13f874",
   "metadata": {
    "papermill": {
     "duration": 0.090493,
     "end_time": "2021-07-29T20:43:26.268951",
     "exception": false,
     "start_time": "2021-07-29T20:43:26.178458",
     "status": "completed"
    },
    "tags": []
   },
   "source": [
    "**SVM got the highes accuracy so i will try to tune its parameters**"
   ]
  },
  {
   "cell_type": "code",
   "execution_count": 45,
   "id": "37e7c20b",
   "metadata": {
    "execution": {
     "iopub.execute_input": "2021-07-29T20:43:26.458589Z",
     "iopub.status.busy": "2021-07-29T20:43:26.457789Z",
     "iopub.status.idle": "2021-07-29T20:43:30.054014Z",
     "shell.execute_reply": "2021-07-29T20:43:30.053366Z",
     "shell.execute_reply.started": "2021-07-29T20:39:58.636610Z"
    },
    "papermill": {
     "duration": 3.694653,
     "end_time": "2021-07-29T20:43:30.054179",
     "exception": false,
     "start_time": "2021-07-29T20:43:26.359526",
     "status": "completed"
    },
    "tags": []
   },
   "outputs": [
    {
     "name": "stdout",
     "output_type": "stream",
     "text": [
      "Fitting 3 folds for each of 168 candidates, totalling 504 fits\n"
     ]
    },
    {
     "name": "stderr",
     "output_type": "stream",
     "text": [
      "[Parallel(n_jobs=-1)]: Using backend LokyBackend with 4 concurrent workers.\n",
      "[Parallel(n_jobs=-1)]: Done  56 tasks      | elapsed:    0.4s\n"
     ]
    },
    {
     "name": "stdout",
     "output_type": "stream",
     "text": [
      "0.8272760581025659 SVC(C=1, degree=2) {'C': 1, 'degree': 2, 'gamma': 'scale', 'kernel': 'rbf'}\n"
     ]
    },
    {
     "name": "stderr",
     "output_type": "stream",
     "text": [
      "[Parallel(n_jobs=-1)]: Done 504 out of 504 | elapsed:    3.6s finished\n"
     ]
    }
   ],
   "source": [
    "param_grid = {'C': [0.01,0.5,1,2,5,7,9],\n",
    "              'kernel': [ 'poly','sigmoid', 'linear','rbf'],\n",
    "             'degree':[2,3,4],\n",
    "             'gamma':['scale','auto']}\n",
    "kfold = StratifiedKFold(n_splits=3, shuffle=True, random_state=1)\n",
    "\n",
    "best = GridSearchCV(estimator=SVC(), param_grid=param_grid, scoring='accuracy', cv=kfold, n_jobs=-1,verbose=3)\n",
    "best.fit(x_train, y_train)\n",
    "\n",
    "print(best.best_score_,best.best_estimator_,best.best_params_)"
   ]
  },
  {
   "cell_type": "code",
   "execution_count": 46,
   "id": "8bf8453b",
   "metadata": {
    "execution": {
     "iopub.execute_input": "2021-07-29T20:43:30.254291Z",
     "iopub.status.busy": "2021-07-29T20:43:30.253580Z",
     "iopub.status.idle": "2021-07-29T20:43:30.256552Z",
     "shell.execute_reply": "2021-07-29T20:43:30.256063Z",
     "shell.execute_reply.started": "2021-07-29T20:40:23.302979Z"
    },
    "papermill": {
     "duration": 0.09961,
     "end_time": "2021-07-29T20:43:30.256695",
     "exception": false,
     "start_time": "2021-07-29T20:43:30.157085",
     "status": "completed"
    },
    "tags": []
   },
   "outputs": [],
   "source": [
    "# model=LogisticRegression(max_iter= 50, penalty= 'l2', solver= 'newton-cg')\n",
    "# model.fit(x_train,y_train)\n",
    "# prediction=model.predict(x_validate)\n",
    "# print(accuracy_score(y_validate,prediction))"
   ]
  },
  {
   "cell_type": "code",
   "execution_count": 47,
   "id": "4f2a3c6e",
   "metadata": {
    "execution": {
     "iopub.execute_input": "2021-07-29T20:43:30.449637Z",
     "iopub.status.busy": "2021-07-29T20:43:30.448980Z",
     "iopub.status.idle": "2021-07-29T20:43:30.472005Z",
     "shell.execute_reply": "2021-07-29T20:43:30.472523Z",
     "shell.execute_reply.started": "2021-07-29T20:40:33.379628Z"
    },
    "papermill": {
     "duration": 0.123011,
     "end_time": "2021-07-29T20:43:30.472699",
     "exception": false,
     "start_time": "2021-07-29T20:43:30.349688",
     "status": "completed"
    },
    "tags": []
   },
   "outputs": [
    {
     "name": "stdout",
     "output_type": "stream",
     "text": [
      "0.8268156424581006\n"
     ]
    }
   ],
   "source": [
    "model=SVC(C=1, degree=2)\n",
    "model.fit(x_train,y_train)\n",
    "prediction=model.predict(x_validate)\n",
    "print(accuracy_score(y_validate,prediction))"
   ]
  },
  {
   "cell_type": "code",
   "execution_count": 48,
   "id": "c69aac74",
   "metadata": {
    "execution": {
     "iopub.execute_input": "2021-07-29T20:43:30.661895Z",
     "iopub.status.busy": "2021-07-29T20:43:30.661257Z",
     "iopub.status.idle": "2021-07-29T20:43:30.664417Z",
     "shell.execute_reply": "2021-07-29T20:43:30.664894Z",
     "shell.execute_reply.started": "2021-07-29T20:37:06.336456Z"
    },
    "papermill": {
     "duration": 0.099262,
     "end_time": "2021-07-29T20:43:30.665071",
     "exception": false,
     "start_time": "2021-07-29T20:43:30.565809",
     "status": "completed"
    },
    "tags": []
   },
   "outputs": [],
   "source": [
    "# model=RandomForestClassifier()\n",
    "# model.fit(x_train,y_train)\n",
    "# prediction=model.predict(x_validate)\n",
    "# print(accuracy_score(y_validate,prediction))"
   ]
  },
  {
   "cell_type": "code",
   "execution_count": 49,
   "id": "eaa1159d",
   "metadata": {
    "execution": {
     "iopub.execute_input": "2021-07-29T20:43:30.854979Z",
     "iopub.status.busy": "2021-07-29T20:43:30.854372Z",
     "iopub.status.idle": "2021-07-29T20:43:30.892861Z",
     "shell.execute_reply": "2021-07-29T20:43:30.893359Z",
     "shell.execute_reply.started": "2021-07-29T20:40:51.513585Z"
    },
    "papermill": {
     "duration": 0.135059,
     "end_time": "2021-07-29T20:43:30.893533",
     "exception": false,
     "start_time": "2021-07-29T20:43:30.758474",
     "status": "completed"
    },
    "tags": []
   },
   "outputs": [],
   "source": [
    "model=SVC()\n",
    "model.fit(x_imputed,y)\n",
    "prediction=model.predict(x_test_imputed)"
   ]
  },
  {
   "cell_type": "code",
   "execution_count": 50,
   "id": "a35b062f",
   "metadata": {
    "execution": {
     "iopub.execute_input": "2021-07-29T20:43:31.084922Z",
     "iopub.status.busy": "2021-07-29T20:43:31.084251Z",
     "iopub.status.idle": "2021-07-29T20:43:31.098372Z",
     "shell.execute_reply": "2021-07-29T20:43:31.097764Z",
     "shell.execute_reply.started": "2021-07-29T20:40:59.829022Z"
    },
    "papermill": {
     "duration": 0.111416,
     "end_time": "2021-07-29T20:43:31.098523",
     "exception": false,
     "start_time": "2021-07-29T20:43:30.987107",
     "status": "completed"
    },
    "tags": []
   },
   "outputs": [
    {
     "name": "stdout",
     "output_type": "stream",
     "text": [
      "     PassengerId  Survived\n",
      "0            892         0\n",
      "1            893         1\n",
      "2            894         0\n",
      "3            895         0\n",
      "4            896         1\n",
      "..           ...       ...\n",
      "413         1305         0\n",
      "414         1306         1\n",
      "415         1307         0\n",
      "416         1308         0\n",
      "417         1309         1\n",
      "\n",
      "[418 rows x 2 columns]\n"
     ]
    }
   ],
   "source": [
    "submission = pd.DataFrame({\n",
    "        \"PassengerId\": x_test_imputed.index,\n",
    "        \"Survived\": prediction\n",
    "    })\n",
    "print(submission)\n",
    "submission.to_csv('/kaggle/working/FinalSub.csv', index=False)"
   ]
  },
  {
   "cell_type": "code",
   "execution_count": null,
   "id": "0b952f77",
   "metadata": {
    "papermill": {
     "duration": 0.094171,
     "end_time": "2021-07-29T20:43:31.287351",
     "exception": false,
     "start_time": "2021-07-29T20:43:31.193180",
     "status": "completed"
    },
    "tags": []
   },
   "outputs": [],
   "source": []
  }
 ],
 "metadata": {
  "kernelspec": {
   "display_name": "Python 3",
   "language": "python",
   "name": "python3"
  },
  "language_info": {
   "codemirror_mode": {
    "name": "ipython",
    "version": 3
   },
   "file_extension": ".py",
   "mimetype": "text/x-python",
   "name": "python",
   "nbconvert_exporter": "python",
   "pygments_lexer": "ipython3",
   "version": "3.7.10"
  },
  "papermill": {
   "default_parameters": {},
   "duration": 45.919951,
   "end_time": "2021-07-29T20:43:32.774644",
   "environment_variables": {},
   "exception": null,
   "input_path": "__notebook__.ipynb",
   "output_path": "__notebook__.ipynb",
   "parameters": {},
   "start_time": "2021-07-29T20:42:46.854693",
   "version": "2.3.3"
  }
 },
 "nbformat": 4,
 "nbformat_minor": 5
}
